{
 "cells": [
  {
   "cell_type": "markdown",
   "metadata": {},
   "source": []
  },
  {
   "cell_type": "code",
   "execution_count": 1,
   "metadata": {},
   "outputs": [
    {
     "name": "stderr",
     "output_type": "stream",
     "text": [
      "[nltk_data] Downloading package vader_lexicon to\n",
      "[nltk_data]     C:\\Users\\73183\\AppData\\Roaming\\nltk_data...\n",
      "[nltk_data]   Package vader_lexicon is already up-to-date!\n",
      "[nltk_data] Downloading package averaged_perceptron_tagger to\n",
      "[nltk_data]     C:\\Users\\73183\\AppData\\Roaming\\nltk_data...\n",
      "[nltk_data]   Package averaged_perceptron_tagger is already up-to-\n",
      "[nltk_data]       date!\n"
     ]
    }
   ],
   "source": [
    "import nltk\n",
    "from nltk.tokenize import word_tokenize\n",
    "from nltk.tokenize import sent_tokenize\n",
    "from nltk.stem import PorterStemmer\n",
    "from nltk.sentiment import SentimentIntensityAnalyzer\n",
    "nltk.download('vader_lexicon')\n",
    "nltk.download('averaged_perceptron_tagger')\n",
    "stemmer = PorterStemmer()\n",
    "\n",
    "def cut_sentence(line):\n",
    "\n",
    "    words = word_tokenize(line)\n",
    "    toRet = [] \n",
    "    for word in words:\n",
    "        toRet.append(word)\n",
    "        if word in [\"depression\", \"depressed\"]:\n",
    "            break\n",
    "    return toRet"
   ]
  },
  {
   "cell_type": "code",
   "execution_count": 4,
   "metadata": {},
   "outputs": [],
   "source": [
    "import json\n",
    "import os\n",
    "\n",
    "def parameter_tuning(rate1):\n",
    "    counter = 0\n",
    "    current = os.getcwd()\n",
    "    neg_users = os.listdir(os.path.join(current,'new_ds', 'negative'))\n",
    "    sia = SentimentIntensityAnalyzer()\n",
    "    rates = [0.1*i for i in range(1,7)]\n",
    "    rate_counter = [0 for i in range(1,7)]\n",
    "    rate_dic = dict(zip(rates,rate_counter))\n",
    "    new_pos = []\n",
    "\n",
    "\n",
    "    for user in neg_users:\n",
    "        text_dir = os.path.join(current,'new_ds', 'negative', user, 'timeline.txt')\n",
    "        user_counter = 0\n",
    "        with open(text_dir) as f:\n",
    "\n",
    "            tweets = f.readlines()\n",
    "            total = len(tweets)\n",
    "            if total == 0:\n",
    "                continue\n",
    "            for tweet in tweets:\n",
    "\n",
    "                j_tweet = json.loads(tweet)\n",
    "                text = j_tweet['full_text']\n",
    "\n",
    "\n",
    "                list = cut_sentence(text)\n",
    "                sentence = \" \".join(list)\n",
    "                if sia.polarity_scores(sentence)['compound'] < rate1:\n",
    "                    #print(sentence)\n",
    "                    #print(text)\n",
    "                    user_counter+= 1\n",
    "        \n",
    "        for rate2 in rates:\n",
    "            if (user_counter/total) > rate2:\n",
    "                rate_dic[rate2] += 1\n",
    "\n",
    "    for rate, rate_count in rate_dic.items():\n",
    "        print(\"{:15} {:15} {:15}\".format(round(rate1,2), round(rate,2), rate_count))\n",
    "\n",
    "    return counter"
   ]
  },
  {
   "cell_type": "code",
   "execution_count": 24,
   "metadata": {},
   "outputs": [
    {
     "name": "stdout",
     "output_type": "stream",
     "text": [
      "compound_score  tweet_ratio     number_of_new_positive\n",
      "           -0.1             0.1             791\n",
      "           -0.1             0.2             354\n",
      "           -0.1             0.3              82\n",
      "           -0.1             0.4               9\n",
      "           -0.1             0.5               2\n",
      "           -0.1             0.6               2\n",
      "           -0.2             0.1             723\n",
      "           -0.2             0.2             253\n",
      "           -0.2             0.3              54\n",
      "           -0.2             0.4               4\n",
      "           -0.2             0.5               2\n",
      "           -0.2             0.6               2\n",
      "           -0.3             0.1             615\n",
      "           -0.3             0.2             153\n",
      "           -0.3             0.3              20\n",
      "           -0.3             0.4               3\n",
      "           -0.3             0.5               2\n",
      "           -0.3             0.6               2\n",
      "           -0.4             0.1             503\n",
      "           -0.4             0.2              86\n",
      "           -0.4             0.3              10\n",
      "           -0.4             0.4               2\n",
      "           -0.4             0.5               2\n",
      "           -0.4             0.6               2\n",
      "           -0.5             0.1             321\n",
      "           -0.5             0.2              36\n",
      "           -0.5             0.3               5\n",
      "           -0.5             0.4               2\n",
      "           -0.5             0.5               1\n",
      "           -0.5             0.6               1\n",
      "           -0.6             0.1             117\n",
      "           -0.6             0.2               4\n",
      "           -0.6             0.3               0\n",
      "           -0.6             0.4               0\n",
      "           -0.6             0.5               0\n",
      "           -0.6             0.6               0\n"
     ]
    }
   ],
   "source": [
    "rates = [-0.1*i for i in range(1,7)]\n",
    "print(\"{:15} {:15} {:15}\".format(\"compound_score\", \"tweet_ratio\", \"number_of_new_positive\"))\n",
    "for rate1 in rates:\n",
    "\n",
    "    score = parameter_tuning(rate1)\n",
    "\n"
   ]
  },
  {
   "cell_type": "markdown",
   "metadata": {},
   "source": [
    "take -0.6, 0.1 as threshold, gives 117 more users."
   ]
  },
  {
   "cell_type": "code",
   "execution_count": 2,
   "metadata": {},
   "outputs": [],
   "source": [
    "def dig():\n",
    "    counter = 0\n",
    "    current = os.getcwd()\n",
    "    neg_users = os.listdir(os.path.join(current,'new_ds', 'negative'))\n",
    "    sia = SentimentIntensityAnalyzer()\n",
    "    new_pos = []\n",
    "\n",
    "\n",
    "    for user in neg_users:\n",
    "        text_dir = os.path.join(current,'new_ds', 'negative', user, 'timeline.txt')\n",
    "        user_counter = 0\n",
    "        with open(text_dir) as f:\n",
    "\n",
    "            tweets = f.readlines()\n",
    "            total = len(tweets)\n",
    "            if total == 0:\n",
    "                continue\n",
    "            for tweet in tweets:\n",
    "\n",
    "                j_tweet = json.loads(tweet)\n",
    "                text = j_tweet['full_text']\n",
    "\n",
    "\n",
    "                list = cut_sentence(text)\n",
    "                sentence = \" \".join(list)\n",
    "                if sia.polarity_scores(sentence)['compound'] < (-0.6):\n",
    "                    #print(sentence)\n",
    "                    #print(text)\n",
    "                    user_counter+= 1\n",
    "        \n",
    "\n",
    "        if (user_counter/total) > 0.1:\n",
    "            new_pos.append(user)\n",
    "\n",
    "\n",
    "    return new_pos"
   ]
  },
  {
   "cell_type": "code",
   "execution_count": 5,
   "metadata": {},
   "outputs": [],
   "source": [
    "new_pos = dig()"
   ]
  },
  {
   "cell_type": "code",
   "execution_count": 7,
   "metadata": {},
   "outputs": [],
   "source": [
    "import shutil\n",
    "\n",
    "current = os.getcwd()\n",
    "\n",
    "for user in new_pos:\n",
    "    ori = os.path.join(current,'new_ds', 'negative', user)\n",
    "    target = os.path.join(current,'new_ds', 'positive', user)\n",
    "    shutil.move(ori,target)"
   ]
  },
  {
   "cell_type": "code",
   "execution_count": 2,
   "metadata": {},
   "outputs": [],
   "source": [
    "\n",
    "import torch"
   ]
  }
 ],
 "metadata": {
  "interpreter": {
   "hash": "86796e60a88ab176c3f98ba27b7fdb8687a243592c69a8c5d83d1cdfc92a6a95"
  },
  "kernelspec": {
   "display_name": "Python 3.8.10 64-bit (windows store)",
   "language": "python",
   "name": "python3"
  },
  "language_info": {
   "codemirror_mode": {
    "name": "ipython",
    "version": 3
   },
   "file_extension": ".py",
   "mimetype": "text/x-python",
   "name": "python",
   "nbconvert_exporter": "python",
   "pygments_lexer": "ipython3",
   "version": "3.8.10"
  },
  "orig_nbformat": 4
 },
 "nbformat": 4,
 "nbformat_minor": 2
}
