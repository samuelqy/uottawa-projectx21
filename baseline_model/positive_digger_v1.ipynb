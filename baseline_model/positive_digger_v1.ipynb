{
 "cells": [
  {
   "cell_type": "markdown",
   "metadata": {},
   "source": [
    "Code below provides extra 15 positive users (there are originally 16 positive users)"
   ]
  },
  {
   "cell_type": "code",
   "execution_count": null,
   "metadata": {},
   "outputs": [],
   "source": [
    "import nltk\n",
    "import shutil\n",
    "from nltk.tokenize import word_tokenize\n",
    "from nltk.tokenize import sent_tokenize\n",
    "from nltk.stem import PorterStemmer\n",
    "from nltk.sentiment import SentimentIntensityAnalyzer\n",
    "nltk.download('vader_lexicon')\n",
    "nltk.download('averaged_perceptron_tagger')\n",
    "stemmer = PorterStemmer()\n",
    "\n",
    "def cut_sentence(line):\n",
    "\n",
    "    words = word_tokenize(line)\n",
    "    toRet = [] \n",
    "    for word in words:\n",
    "        toRet.append(word)\n",
    "        if word in [\"depression\", \"depressed\"]:\n",
    "            break\n",
    "    return toRet"
   ]
  },
  {
   "cell_type": "code",
   "execution_count": null,
   "metadata": {},
   "outputs": [],
   "source": [
    "import json\n",
    "counter = 0\n",
    "current = os.getcwd()\n",
    "neg_users = os.listdir(os.path.join(current,'Smaller_Dataset_Jan19', 'negative'))\n",
    "sia = SentimentIntensityAnalyzer()\n",
    "new_pos = []\n",
    "\n",
    "for user in neg_users:\n",
    "    text_dir = os.path.join(current,'Smaller_Dataset_Jan19', 'negative', user, 'timeline.txt')\n",
    "    user_counter = 0\n",
    "    with open(text_dir) as f:\n",
    "\n",
    "        tweets = f.readlines()\n",
    "        total = len(tweets)\n",
    "        for tweet in tweets:\n",
    "\n",
    "            j_tweet = json.loads(tweet)\n",
    "            text = j_tweet['full_text']\n",
    "\n",
    "            if \"depress\" in text:\n",
    "                list = cut_sentence(text)\n",
    "                sentence = \" \".join(list)\n",
    "                if sia.polarity_scores(sentence)['neg'] > 0.6:\n",
    "                    print(sentence)\n",
    "                    print(text)\n",
    "                    user_counter+= 1\n",
    "\n",
    "    if (user_counter/total) > 0.5:\n",
    "        print(user_counter)\n",
    "        new_pos.append(user)\n",
    "\n",
    "for user in new_pos:\n",
    "    ori = os.path.join(current,'Smaller_Dataset_Jan19', 'negative', user)\n",
    "    target = os.path.join(current,'Smaller_Dataset_Jan19', 'positive', user)\n",
    "    shutil.move(ori,target)"
   ]
  }
 ],
 "metadata": {
  "kernelspec": {
   "display_name": "Python 3",
   "language": "python",
   "name": "python3"
  },
  "language_info": {
   "codemirror_mode": {
    "name": "ipython",
    "version": 3
   },
   "file_extension": ".py",
   "mimetype": "text/x-python",
   "name": "python",
   "nbconvert_exporter": "python",
   "pygments_lexer": "ipython3",
   "version": "3.8.5"
  }
 },
 "nbformat": 4,
 "nbformat_minor": 4
}
