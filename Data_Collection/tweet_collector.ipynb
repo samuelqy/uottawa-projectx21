{
 "cells": [
  {
   "cell_type": "code",
   "execution_count": 101,
   "id": "fc59f3c3",
   "metadata": {},
   "outputs": [
    {
     "name": "stdout",
     "output_type": "stream",
     "text": [
      "Requirement already satisfied: tweepy in /Users/filipbosnjak/opt/anaconda3/lib/python3.8/site-packages (4.0.0)\n",
      "Requirement already satisfied: requests<3,>=2.11.1 in /Users/filipbosnjak/opt/anaconda3/lib/python3.8/site-packages (from tweepy) (2.25.1)\n",
      "Requirement already satisfied: requests-oauthlib<2,>=1.0.0 in /Users/filipbosnjak/opt/anaconda3/lib/python3.8/site-packages (from tweepy) (1.3.0)\n",
      "Requirement already satisfied: urllib3<1.27,>=1.21.1 in /Users/filipbosnjak/opt/anaconda3/lib/python3.8/site-packages (from requests<3,>=2.11.1->tweepy) (1.26.4)\n",
      "Requirement already satisfied: certifi>=2017.4.17 in /Users/filipbosnjak/opt/anaconda3/lib/python3.8/site-packages (from requests<3,>=2.11.1->tweepy) (2021.5.30)\n",
      "Requirement already satisfied: idna<3,>=2.5 in /Users/filipbosnjak/opt/anaconda3/lib/python3.8/site-packages (from requests<3,>=2.11.1->tweepy) (2.10)\n",
      "Requirement already satisfied: chardet<5,>=3.0.2 in /Users/filipbosnjak/opt/anaconda3/lib/python3.8/site-packages (from requests<3,>=2.11.1->tweepy) (4.0.0)\n",
      "Requirement already satisfied: oauthlib>=3.0.0 in /Users/filipbosnjak/opt/anaconda3/lib/python3.8/site-packages (from requests-oauthlib<2,>=1.0.0->tweepy) (3.1.1)\n",
      "\u001b[31mERROR: Could not find a version that satisfies the requirement tweepy.streaming\u001b[0m\n",
      "\u001b[31mERROR: No matching distribution found for tweepy.streaming\u001b[0m\n"
     ]
    }
   ],
   "source": [
    "!pip install tweepy\n",
    "!pip install tweepy.streaming"
   ]
  },
  {
   "cell_type": "code",
   "execution_count": 102,
   "id": "b4a83d10",
   "metadata": {},
   "outputs": [],
   "source": [
    "import tweepy as tw\n",
    "import pandas as pd\n",
    "import twitter\n",
    "import json\n",
    "import requests\n",
    "import json"
   ]
  },
  {
   "cell_type": "code",
   "execution_count": 103,
   "id": "63ea1d2f",
   "metadata": {},
   "outputs": [],
   "source": [
    "%run ./keys.ipynb"
   ]
  },
  {
   "cell_type": "code",
   "execution_count": 104,
   "id": "8e54a9e1",
   "metadata": {},
   "outputs": [],
   "source": [
    "auth = tw.OAuthHandler(consumer_key,consumer_key_secret)"
   ]
  },
  {
   "cell_type": "code",
   "execution_count": 105,
   "id": "56ad3496",
   "metadata": {},
   "outputs": [],
   "source": [
    "auth.set_access_token(access_token,acess_token_secret)\n",
    "api = tw.API(auth)"
   ]
  },
  {
   "cell_type": "code",
   "execution_count": 106,
   "id": "3fd92590",
   "metadata": {},
   "outputs": [],
   "source": [
    "fetched_tweets = api.search_tweets(\"\\\"i have depression\\\"\",count = 1,result_type=\"recent\",lang=\"en\")"
   ]
  },
  {
   "cell_type": "code",
   "execution_count": 107,
   "id": "6532726a",
   "metadata": {},
   "outputs": [
    {
     "name": "stdout",
     "output_type": "stream",
     "text": [
      "The Atlanta Falcons are the reason I have depression.\n"
     ]
    }
   ],
   "source": [
    "print(fetched_tweets[0].text)"
   ]
  },
  {
   "cell_type": "code",
   "execution_count": 108,
   "id": "45b9499f",
   "metadata": {},
   "outputs": [
    {
     "name": "stdout",
     "output_type": "stream",
     "text": [
      "id\n",
      "id_str\n",
      "name\n",
      "screen_name\n",
      "location\n",
      "description\n",
      "url\n",
      "entities\n",
      "protected\n",
      "followers_count\n",
      "friends_count\n",
      "listed_count\n",
      "created_at\n",
      "favourites_count\n",
      "utc_offset\n",
      "time_zone\n",
      "geo_enabled\n",
      "verified\n",
      "statuses_count\n",
      "lang\n",
      "contributors_enabled\n",
      "is_translator\n",
      "is_translation_enabled\n",
      "profile_background_color\n",
      "profile_background_image_url\n",
      "profile_background_image_url_https\n",
      "profile_background_tile\n",
      "profile_image_url\n",
      "profile_image_url_https\n",
      "profile_banner_url\n",
      "profile_link_color\n",
      "profile_sidebar_border_color\n",
      "profile_sidebar_fill_color\n",
      "profile_text_color\n",
      "profile_use_background_image\n",
      "has_extended_profile\n",
      "default_profile\n",
      "default_profile_image\n",
      "following\n",
      "follow_request_sent\n",
      "notifications\n",
      "translator_type\n",
      "withheld_in_countries\n"
     ]
    }
   ],
   "source": [
    "anchor_id = fetched_tweets[0]._json['user']['id']\n",
    "\n",
    "for i in fetched_tweets[0]._json['user']:\n",
    "    print(i)"
   ]
  },
  {
   "cell_type": "code",
   "execution_count": 109,
   "id": "615548ce",
   "metadata": {},
   "outputs": [],
   "source": [
    "class User():\n",
    "    \n",
    "    def __init__(self,userID,depression_status=None,json_dump=None,followers=[],user_bio=\"\"):\n",
    "        self._userID = userID\n",
    "        self._depression_status = depression_status\n",
    "        self._json_dump = json_dump\n",
    "        self._followers = followers\n",
    "        self._user_bio = user_bio\n",
    "        \n",
    "    # getter method\n",
    "    def get_UserID(self):\n",
    "        return self._userID\n",
    "    # getter method\n",
    "    def get_depression_status(self):\n",
    "        return self._depression_status\n",
    "    # getter method\n",
    "    def get_json_info(self):\n",
    "        return self._json_info\n",
    "    # getter method\n",
    "    def get_followers(self):\n",
    "        return self._followers\n",
    "    # setter method\n",
    "    def set_followers(self,follower_list):\n",
    "        self._followers = follower_list\n",
    "    # setter method\n",
    "    def set_depression_status(self,new_status):\n",
    "        self._depression_status = new_status\n",
    "    # setter method\n",
    "    def set_json_dump(self,json):\n",
    "        self._json_dump= json\n",
    "            \n",
    "    def __str__(self):\n",
    "        return 'UserID='+str(self._userID)+'\\nDepression Status='+str(self._depression_status)\n",
    "    \n",
    "\n",
    "anchorUser = User(userID=fetched_tweets[0]._json['user']['id'],\n",
    "                  depression_status=True,\n",
    "                  json_dump=fetched_tweets[0]._json)"
   ]
  },
  {
   "cell_type": "code",
   "execution_count": 110,
   "id": "719e4fdb",
   "metadata": {},
   "outputs": [
    {
     "name": "stdout",
     "output_type": "stream",
     "text": [
      "[3068348666, 742011151, 2573161133, 43775786, 342165503, 2423787905, 155661068, 239843671, 18527874, 321586997, 31191508, 16347506, 21436663]\n"
     ]
    }
   ],
   "source": [
    "def get_friends_list(user):\n",
    "    '''\n",
    "    Takes an object of class User as input\n",
    "    Returns a list of the users friends ids as strings\n",
    "    '''\n",
    "\n",
    "    anchor_friends_raw = api.get_friends(user_id=user.get_UserID())\n",
    "    anchor_friends_ids = []\n",
    "\n",
    "    for i in anchor_friends_raw:\n",
    "        anchor_friends_ids.append(i._json['id'])\n",
    "    \n",
    "    return anchor_friends_ids\n",
    "\n",
    "\n",
    "print(get_friends_list(anchorUser))"
   ]
  },
  {
   "cell_type": "code",
   "execution_count": 114,
   "id": "7db80899",
   "metadata": {},
   "outputs": [
    {
     "name": "stdout",
     "output_type": "stream",
     "text": [
      "{'id': 1426662074277576705, 'id_str': '1426662074277576705', 'name': 'mo is sleepy', 'screen_name': 'whofwmo', 'location': '-16 18+ dni! | white | no tw', 'profile_location': None, 'description': '16! ‘05 she/they', 'url': 'https://t.co/mQvAWDhbal', 'entities': {'url': {'urls': [{'url': 'https://t.co/mQvAWDhbal', 'expanded_url': 'https://curiouscat.qa/whofwmo', 'display_url': 'curiouscat.qa/whofwmo', 'indices': [0, 23]}]}, 'description': {'urls': []}}, 'protected': False, 'followers_count': 749, 'friends_count': 188, 'listed_count': 6, 'created_at': 'Sat Aug 14 21:48:48 +0000 2021', 'favourites_count': 4536, 'utc_offset': None, 'time_zone': None, 'geo_enabled': False, 'verified': False, 'statuses_count': 2999, 'lang': None, 'status': {'created_at': 'Sun Oct 03 20:22:58 +0000 2021', 'id': 1444759904628187138, 'id_str': '1444759904628187138', 'text': 'RT @bubbly_jiminie_: am i cute ? 🥺 https://t.co/3T36wEgmn0', 'truncated': False, 'entities': {'hashtags': [], 'symbols': [], 'user_mentions': [{'screen_name': 'bubbly_jiminie_', 'name': 'bub ! is sleepy', 'id': 1343373944418660354, 'id_str': '1343373944418660354', 'indices': [3, 19]}], 'urls': [], 'media': [{'id': 1444757966599729156, 'id_str': '1444757966599729156', 'indices': [35, 58], 'media_url': 'http://pbs.twimg.com/ext_tw_video_thumb/1444757966599729156/pu/img/LVechdKdrvXGdr5r.jpg', 'media_url_https': 'https://pbs.twimg.com/ext_tw_video_thumb/1444757966599729156/pu/img/LVechdKdrvXGdr5r.jpg', 'url': 'https://t.co/3T36wEgmn0', 'display_url': 'pic.twitter.com/3T36wEgmn0', 'expanded_url': 'https://twitter.com/bubbly_jiminie_/status/1444757993841643524/video/1', 'type': 'photo', 'sizes': {'thumb': {'w': 150, 'h': 150, 'resize': 'crop'}, 'large': {'w': 340, 'h': 640, 'resize': 'fit'}, 'medium': {'w': 340, 'h': 640, 'resize': 'fit'}, 'small': {'w': 340, 'h': 640, 'resize': 'fit'}}, 'source_status_id': 1444757993841643524, 'source_status_id_str': '1444757993841643524', 'source_user_id': 1343373944418660354, 'source_user_id_str': '1343373944418660354'}]}, 'extended_entities': {'media': [{'id': 1444757966599729156, 'id_str': '1444757966599729156', 'indices': [35, 58], 'media_url': 'http://pbs.twimg.com/ext_tw_video_thumb/1444757966599729156/pu/img/LVechdKdrvXGdr5r.jpg', 'media_url_https': 'https://pbs.twimg.com/ext_tw_video_thumb/1444757966599729156/pu/img/LVechdKdrvXGdr5r.jpg', 'url': 'https://t.co/3T36wEgmn0', 'display_url': 'pic.twitter.com/3T36wEgmn0', 'expanded_url': 'https://twitter.com/bubbly_jiminie_/status/1444757993841643524/video/1', 'type': 'video', 'sizes': {'thumb': {'w': 150, 'h': 150, 'resize': 'crop'}, 'large': {'w': 340, 'h': 640, 'resize': 'fit'}, 'medium': {'w': 340, 'h': 640, 'resize': 'fit'}, 'small': {'w': 340, 'h': 640, 'resize': 'fit'}}, 'source_status_id': 1444757993841643524, 'source_status_id_str': '1444757993841643524', 'source_user_id': 1343373944418660354, 'source_user_id_str': '1343373944418660354', 'video_info': {'aspect_ratio': [17, 32], 'duration_millis': 1201, 'variants': [{'bitrate': 950000, 'content_type': 'video/mp4', 'url': 'https://video.twimg.com/ext_tw_video/1444757966599729156/pu/vid/340x640/kkeUYFQZglEJxyCA.mp4?tag=12'}, {'content_type': 'application/x-mpegURL', 'url': 'https://video.twimg.com/ext_tw_video/1444757966599729156/pu/pl/ISA0j4VnftvNy03m.m3u8?tag=12&container=fmp4'}, {'bitrate': 632000, 'content_type': 'video/mp4', 'url': 'https://video.twimg.com/ext_tw_video/1444757966599729156/pu/vid/320x602/O9gW-a5Fj-zFqQVn.mp4?tag=12'}]}, 'additional_media_info': {'monetizable': False}}]}, 'source': '<a href=\"http://twitter.com/download/iphone\" rel=\"nofollow\">Twitter for iPhone</a>', 'in_reply_to_status_id': None, 'in_reply_to_status_id_str': None, 'in_reply_to_user_id': None, 'in_reply_to_user_id_str': None, 'in_reply_to_screen_name': None, 'geo': None, 'coordinates': None, 'place': None, 'contributors': None, 'retweeted_status': {'created_at': 'Sun Oct 03 20:15:22 +0000 2021', 'id': 1444757993841643524, 'id_str': '1444757993841643524', 'text': 'am i cute ? 🥺 https://t.co/3T36wEgmn0', 'truncated': False, 'entities': {'hashtags': [], 'symbols': [], 'user_mentions': [], 'urls': [], 'media': [{'id': 1444757966599729156, 'id_str': '1444757966599729156', 'indices': [14, 37], 'media_url': 'http://pbs.twimg.com/ext_tw_video_thumb/1444757966599729156/pu/img/LVechdKdrvXGdr5r.jpg', 'media_url_https': 'https://pbs.twimg.com/ext_tw_video_thumb/1444757966599729156/pu/img/LVechdKdrvXGdr5r.jpg', 'url': 'https://t.co/3T36wEgmn0', 'display_url': 'pic.twitter.com/3T36wEgmn0', 'expanded_url': 'https://twitter.com/bubbly_jiminie_/status/1444757993841643524/video/1', 'type': 'photo', 'sizes': {'thumb': {'w': 150, 'h': 150, 'resize': 'crop'}, 'large': {'w': 340, 'h': 640, 'resize': 'fit'}, 'medium': {'w': 340, 'h': 640, 'resize': 'fit'}, 'small': {'w': 340, 'h': 640, 'resize': 'fit'}}}]}, 'extended_entities': {'media': [{'id': 1444757966599729156, 'id_str': '1444757966599729156', 'indices': [14, 37], 'media_url': 'http://pbs.twimg.com/ext_tw_video_thumb/1444757966599729156/pu/img/LVechdKdrvXGdr5r.jpg', 'media_url_https': 'https://pbs.twimg.com/ext_tw_video_thumb/1444757966599729156/pu/img/LVechdKdrvXGdr5r.jpg', 'url': 'https://t.co/3T36wEgmn0', 'display_url': 'pic.twitter.com/3T36wEgmn0', 'expanded_url': 'https://twitter.com/bubbly_jiminie_/status/1444757993841643524/video/1', 'type': 'video', 'sizes': {'thumb': {'w': 150, 'h': 150, 'resize': 'crop'}, 'large': {'w': 340, 'h': 640, 'resize': 'fit'}, 'medium': {'w': 340, 'h': 640, 'resize': 'fit'}, 'small': {'w': 340, 'h': 640, 'resize': 'fit'}}, 'video_info': {'aspect_ratio': [17, 32], 'duration_millis': 1201, 'variants': [{'bitrate': 950000, 'content_type': 'video/mp4', 'url': 'https://video.twimg.com/ext_tw_video/1444757966599729156/pu/vid/340x640/kkeUYFQZglEJxyCA.mp4?tag=12'}, {'content_type': 'application/x-mpegURL', 'url': 'https://video.twimg.com/ext_tw_video/1444757966599729156/pu/pl/ISA0j4VnftvNy03m.m3u8?tag=12&container=fmp4'}, {'bitrate': 632000, 'content_type': 'video/mp4', 'url': 'https://video.twimg.com/ext_tw_video/1444757966599729156/pu/vid/320x602/O9gW-a5Fj-zFqQVn.mp4?tag=12'}]}, 'additional_media_info': {'monetizable': False}}]}, 'source': '<a href=\"http://twitter.com/download/iphone\" rel=\"nofollow\">Twitter for iPhone</a>', 'in_reply_to_status_id': None, 'in_reply_to_status_id_str': None, 'in_reply_to_user_id': None, 'in_reply_to_user_id_str': None, 'in_reply_to_screen_name': None, 'geo': None, 'coordinates': None, 'place': None, 'contributors': None, 'is_quote_status': False, 'retweet_count': 1, 'favorite_count': 7, 'favorited': False, 'retweeted': False, 'possibly_sensitive': False, 'lang': 'en'}, 'is_quote_status': False, 'retweet_count': 1, 'favorite_count': 0, 'favorited': False, 'retweeted': False, 'possibly_sensitive': False, 'lang': 'en'}, 'contributors_enabled': False, 'is_translator': False, 'is_translation_enabled': False, 'profile_background_color': 'F5F8FA', 'profile_background_image_url': None, 'profile_background_image_url_https': None, 'profile_background_tile': False, 'profile_image_url': 'http://pbs.twimg.com/profile_images/1429562093708132359/lwTwsOZM_normal.jpg', 'profile_image_url_https': 'https://pbs.twimg.com/profile_images/1429562093708132359/lwTwsOZM_normal.jpg', 'profile_banner_url': 'https://pbs.twimg.com/profile_banners/1426662074277576705/1629669138', 'profile_link_color': '1DA1F2', 'profile_sidebar_border_color': 'C0DEED', 'profile_sidebar_fill_color': 'DDEEF6', 'profile_text_color': '333333', 'profile_use_background_image': True, 'has_extended_profile': True, 'default_profile': True, 'default_profile_image': False, 'following': False, 'follow_request_sent': False, 'notifications': False, 'translator_type': 'none', 'withheld_in_countries': []}\n",
      "sometimes i just feel like i should step away\n"
     ]
    }
   ],
   "source": [
    "def check_protected(userID):\n",
    "    \n",
    "    user = api.get_user(user_id=userID)\n",
    "    print(user._json)\n",
    "    if(user._json['protected'] == 'True'):\n",
    "        return True\n",
    "    return False\n",
    "\n",
    "def get_tweets_by_id(userID):\n",
    "    \n",
    "    if (check_protected(userID) == False):\n",
    "        all_tweets = api.user_timeline(user_id=userID, \n",
    "                           # 200 is the maximum allowed count\n",
    "                           count=200,\n",
    "                           include_rts = False,\n",
    "                           # Necessary to keep full_text \n",
    "                           # otherwise only the first 140 words are extracted\n",
    "                           tweet_mode = 'extended'\n",
    "                           )\n",
    "        return all_tweets\n",
    "    return []\n",
    "    \n",
    "\n",
    "tweets = get_tweets_by_id(1426662074277576705)\n",
    "\n",
    "print(tweets[1].full_text)"
   ]
  },
  {
   "cell_type": "code",
   "execution_count": 115,
   "id": "400dcfba",
   "metadata": {},
   "outputs": [
    {
     "name": "stdout",
     "output_type": "stream",
     "text": [
      "{'id': 768583233126617088, 'id_str': '768583233126617088', 'name': 'John Bickley', 'screen_name': 'papabickler', 'location': '', 'profile_location': None, 'description': '', 'url': None, 'entities': {'description': {'urls': []}}, 'protected': False, 'followers_count': 34, 'friends_count': 13, 'listed_count': 0, 'created_at': 'Wed Aug 24 22:58:17 +0000 2016', 'favourites_count': 4, 'utc_offset': None, 'time_zone': None, 'geo_enabled': False, 'verified': False, 'statuses_count': 15, 'lang': None, 'status': {'created_at': 'Sun Oct 03 20:22:00 +0000 2021', 'id': 1444759661090164737, 'id_str': '1444759661090164737', 'text': 'The Atlanta Falcons are the reason I have depression.', 'truncated': False, 'entities': {'hashtags': [], 'symbols': [], 'user_mentions': [], 'urls': []}, 'source': '<a href=\"http://twitter.com/download/iphone\" rel=\"nofollow\">Twitter for iPhone</a>', 'in_reply_to_status_id': None, 'in_reply_to_status_id_str': None, 'in_reply_to_user_id': None, 'in_reply_to_user_id_str': None, 'in_reply_to_screen_name': None, 'geo': None, 'coordinates': None, 'place': None, 'contributors': None, 'is_quote_status': False, 'retweet_count': 0, 'favorite_count': 0, 'favorited': False, 'retweeted': False, 'lang': 'en'}, 'contributors_enabled': False, 'is_translator': False, 'is_translation_enabled': False, 'profile_background_color': 'F5F8FA', 'profile_background_image_url': None, 'profile_background_image_url_https': None, 'profile_background_tile': False, 'profile_image_url': 'http://pbs.twimg.com/profile_images/1337540570877669376/7PhuHzBc_normal.jpg', 'profile_image_url_https': 'https://pbs.twimg.com/profile_images/1337540570877669376/7PhuHzBc_normal.jpg', 'profile_banner_url': 'https://pbs.twimg.com/profile_banners/768583233126617088/1632981859', 'profile_link_color': '1DA1F2', 'profile_sidebar_border_color': 'C0DEED', 'profile_sidebar_fill_color': 'DDEEF6', 'profile_text_color': '333333', 'profile_use_background_image': True, 'has_extended_profile': True, 'default_profile': True, 'default_profile_image': False, 'following': False, 'follow_request_sent': False, 'notifications': False, 'translator_type': 'none', 'withheld_in_countries': []}\n",
      "The Atlanta Falcons are the reason I have depression.\n",
      "The Atlanta Falcons are the reason I have depression.\n"
     ]
    },
    {
     "data": {
      "text/plain": [
       "True"
      ]
     },
     "execution_count": 115,
     "metadata": {},
     "output_type": "execute_result"
    }
   ],
   "source": [
    "depression_phrases = [\"i have depression\", \n",
    "                      \"i am depressed\", \n",
    "                      \"i am diagnosed with depression\",\n",
    "                      \"im depressed\",\n",
    "                      \"feeling depressed\",\n",
    "                      \"i have clinical depression\",\n",
    "                      \"i am clinically depressed\",\n",
    "                     \"depressed\",\n",
    "                     \"depression\",]\n",
    "\n",
    "def depression_check(user_list):\n",
    "    count = 0\n",
    "    flag = False\n",
    "    \n",
    "    for friend in user_list:\n",
    "        tweets = get_tweets_by_id(friend)\n",
    "        for info in tweets:\n",
    "            #print(\"ID: {}\".format(info.id))\n",
    "            #print(info.created_at)\n",
    "            #print(info.full_text)\n",
    "            #print(\"\\n\")\n",
    "            count+=1\n",
    "    \n",
    "            if ((\"depression\" or \"depressed\") in info.full_text):\n",
    "                print(info.full_text)\n",
    "                flag = True\n",
    "        print(count)\n",
    "\n",
    "        \n",
    "def depression_check_user(userID):\n",
    "    \"\"\"\n",
    "    Takes UserID as input\n",
    "    Returns boolean to identicate wether or not they are depressed\n",
    "    \"\"\"\n",
    "    tweets = get_tweets_by_id(userID)\n",
    "    depression_status = False\n",
    "    \n",
    "    for info in tweets:\n",
    "            for depression_phrase in depression_phrases:\n",
    "                if (depression_phrase in info.full_text.lower()):\n",
    "                    print(info.full_text)\n",
    "                    depression_status = True\n",
    "    \n",
    "    return depression_status  \n",
    "\n",
    "    \n",
    "depression_check_user(anchor_id)"
   ]
  },
  {
   "cell_type": "code",
   "execution_count": 141,
   "id": "7b08ee79",
   "metadata": {},
   "outputs": [
    {
     "name": "stdout",
     "output_type": "stream",
     "text": [
      "Collecting decorator==4.3\n",
      "  Downloading decorator-4.3.0-py2.py3-none-any.whl (9.2 kB)\n",
      "Installing collected packages: decorator\n",
      "  Attempting uninstall: decorator\n",
      "    Found existing installation: decorator 5.0.6\n",
      "    Uninstalling decorator-5.0.6:\n",
      "      Successfully uninstalled decorator-5.0.6\n",
      "Successfully installed decorator-4.3.0\n"
     ]
    }
   ],
   "source": []
  },
  {
   "cell_type": "code",
   "execution_count": 142,
   "id": "48fa076c",
   "metadata": {},
   "outputs": [],
   "source": []
  },
  {
   "cell_type": "code",
   "execution_count": 143,
   "id": "3f3445fb",
   "metadata": {},
   "outputs": [],
   "source": []
  },
  {
   "cell_type": "code",
   "execution_count": 144,
   "id": "cec5d483",
   "metadata": {},
   "outputs": [],
   "source": [
    "#Creating our first node from the anchor user\n",
    "G.add_node(anchorUser)"
   ]
  },
  {
   "cell_type": "code",
   "execution_count": 145,
   "id": "5adce95f",
   "metadata": {},
   "outputs": [
    {
     "name": "stdout",
     "output_type": "stream",
     "text": [
      "{'id': 3068348666, 'id_str': '3068348666', 'name': 'Justin King', 'screen_name': 'justinwking18', 'location': '', 'profile_location': None, 'description': 'dawgs', 'url': None, 'entities': {'description': {'urls': []}}, 'protected': False, 'followers_count': 141, 'friends_count': 140, 'listed_count': 0, 'created_at': 'Sun Mar 08 14:46:39 +0000 2015', 'favourites_count': 615, 'utc_offset': None, 'time_zone': None, 'geo_enabled': False, 'verified': False, 'statuses_count': 141, 'lang': None, 'status': {'created_at': 'Fri Aug 13 04:01:38 +0000 2021', 'id': 1426031165371297794, 'id_str': '1426031165371297794', 'text': 'top 5 machinery no order: cars planes trains boats and lawnmower', 'truncated': False, 'entities': {'hashtags': [], 'symbols': [], 'user_mentions': [], 'urls': []}, 'source': '<a href=\"http://twitter.com/download/iphone\" rel=\"nofollow\">Twitter for iPhone</a>', 'in_reply_to_status_id': None, 'in_reply_to_status_id_str': None, 'in_reply_to_user_id': None, 'in_reply_to_user_id_str': None, 'in_reply_to_screen_name': None, 'geo': None, 'coordinates': None, 'place': None, 'contributors': None, 'is_quote_status': False, 'retweet_count': 0, 'favorite_count': 5, 'favorited': False, 'retweeted': False, 'lang': 'en'}, 'contributors_enabled': False, 'is_translator': False, 'is_translation_enabled': False, 'profile_background_color': 'C0DEED', 'profile_background_image_url': 'http://abs.twimg.com/images/themes/theme1/bg.png', 'profile_background_image_url_https': 'https://abs.twimg.com/images/themes/theme1/bg.png', 'profile_background_tile': False, 'profile_image_url': 'http://pbs.twimg.com/profile_images/1332121321715740673/AuRmmaRp_normal.jpg', 'profile_image_url_https': 'https://pbs.twimg.com/profile_images/1332121321715740673/AuRmmaRp_normal.jpg', 'profile_banner_url': 'https://pbs.twimg.com/profile_banners/3068348666/1610912119', 'profile_link_color': '1DA1F2', 'profile_sidebar_border_color': 'C0DEED', 'profile_sidebar_fill_color': 'DDEEF6', 'profile_text_color': '333333', 'profile_use_background_image': True, 'has_extended_profile': True, 'default_profile': True, 'default_profile_image': False, 'following': False, 'follow_request_sent': False, 'notifications': False, 'translator_type': 'none', 'withheld_in_countries': []}\n",
      "{'id': 742011151, 'id_str': '742011151', 'name': 'Bud Light', 'screen_name': 'budlight', 'location': 'St Louis, MO', 'profile_location': None, 'description': 'By following, you confirm you’re 21+ and will only share with those of legal drinking age. Enjoy responsibly. Community Guidelines https://t.co/xX8Je7UGyY', 'url': 'https://t.co/4YsCIwnuGk', 'entities': {'url': {'urls': [{'url': 'https://t.co/4YsCIwnuGk', 'expanded_url': 'http://www.budlight.com', 'display_url': 'budlight.com', 'indices': [0, 23]}]}, 'description': {'urls': [{'url': 'https://t.co/xX8Je7UGyY', 'expanded_url': 'https://bit.ly/2WG8lAj', 'display_url': 'bit.ly/2WG8lAj', 'indices': [131, 154]}]}}, 'protected': False, 'followers_count': 251144, 'friends_count': 244, 'listed_count': 715, 'created_at': 'Tue Aug 07 02:59:08 +0000 2012', 'favourites_count': 9883, 'utc_offset': None, 'time_zone': None, 'geo_enabled': True, 'verified': True, 'statuses_count': 70104, 'lang': None, 'status': {'created_at': 'Sat Oct 02 23:39:44 +0000 2021', 'id': 1444447037249003521, 'id_str': '1444447037249003521', 'text': '@cmbrva Not all heroes wear capes.', 'truncated': False, 'entities': {'hashtags': [], 'symbols': [], 'user_mentions': [{'screen_name': 'cmbrva', 'name': 'CMB', 'id': 772910889469108224, 'id_str': '772910889469108224', 'indices': [0, 7]}], 'urls': []}, 'source': '<a href=\"https://prod1.sprinklr.com\" rel=\"nofollow\">Sprinklr Publishing</a>', 'in_reply_to_status_id': 1444439118658813953, 'in_reply_to_status_id_str': '1444439118658813953', 'in_reply_to_user_id': 772910889469108224, 'in_reply_to_user_id_str': '772910889469108224', 'in_reply_to_screen_name': 'cmbrva', 'geo': None, 'coordinates': None, 'place': None, 'contributors': None, 'is_quote_status': False, 'retweet_count': 0, 'favorite_count': 3, 'favorited': False, 'retweeted': False, 'lang': 'en'}, 'contributors_enabled': False, 'is_translator': False, 'is_translation_enabled': False, 'profile_background_color': 'C0DEED', 'profile_background_image_url': 'http://abs.twimg.com/images/themes/theme1/bg.png', 'profile_background_image_url_https': 'https://abs.twimg.com/images/themes/theme1/bg.png', 'profile_background_tile': False, 'profile_image_url': 'http://pbs.twimg.com/profile_images/1400539492642140165/dVF3SzjX_normal.png', 'profile_image_url_https': 'https://pbs.twimg.com/profile_images/1400539492642140165/dVF3SzjX_normal.png', 'profile_banner_url': 'https://pbs.twimg.com/profile_banners/742011151/1616082513', 'profile_link_color': '0084B4', 'profile_sidebar_border_color': 'FFFFFF', 'profile_sidebar_fill_color': 'DDEEF6', 'profile_text_color': '333333', 'profile_use_background_image': True, 'has_extended_profile': False, 'default_profile': False, 'default_profile_image': False, 'following': False, 'follow_request_sent': False, 'notifications': False, 'translator_type': 'none', 'withheld_in_countries': []}\n",
      "{'id': 2573161133, 'id_str': '2573161133', 'name': 'Brooks Rackley', 'screen_name': 'BERackley', 'location': '', 'profile_location': None, 'description': '', 'url': None, 'entities': {'description': {'urls': []}}, 'protected': False, 'followers_count': 146, 'friends_count': 285, 'listed_count': 1, 'created_at': 'Sat May 31 02:00:25 +0000 2014', 'favourites_count': 956, 'utc_offset': None, 'time_zone': None, 'geo_enabled': False, 'verified': False, 'statuses_count': 232, 'lang': None, 'status': {'created_at': 'Mon Sep 06 19:14:18 +0000 2021', 'id': 1434958152143867910, 'id_str': '1434958152143867910', 'text': 'RT @CoachZachSmith: Ok… who did this shit??  LOL\\n https://t.co/HUxo1FH7qK', 'truncated': False, 'entities': {'hashtags': [], 'symbols': [], 'user_mentions': [{'screen_name': 'CoachZachSmith', 'name': 'Zach Smith', 'id': 48352979, 'id_str': '48352979', 'indices': [3, 18]}], 'urls': [], 'media': [{'id': 1434599975305072643, 'id_str': '1434599975305072643', 'indices': [50, 73], 'media_url': 'http://pbs.twimg.com/ext_tw_video_thumb/1434599975305072643/pu/img/ann9nfWqDvLE9kEs.jpg', 'media_url_https': 'https://pbs.twimg.com/ext_tw_video_thumb/1434599975305072643/pu/img/ann9nfWqDvLE9kEs.jpg', 'url': 'https://t.co/HUxo1FH7qK', 'display_url': 'pic.twitter.com/HUxo1FH7qK', 'expanded_url': 'https://twitter.com/DawgsDailyPod/status/1434600042959151106/video/1', 'type': 'photo', 'sizes': {'thumb': {'w': 150, 'h': 150, 'resize': 'crop'}, 'small': {'w': 680, 'h': 680, 'resize': 'fit'}, 'medium': {'w': 720, 'h': 720, 'resize': 'fit'}, 'large': {'w': 720, 'h': 720, 'resize': 'fit'}}, 'source_status_id': 1434600042959151106, 'source_status_id_str': '1434600042959151106', 'source_user_id': 1365476292867600384, 'source_user_id_str': '1365476292867600384'}]}, 'extended_entities': {'media': [{'id': 1434599975305072643, 'id_str': '1434599975305072643', 'indices': [50, 73], 'media_url': 'http://pbs.twimg.com/ext_tw_video_thumb/1434599975305072643/pu/img/ann9nfWqDvLE9kEs.jpg', 'media_url_https': 'https://pbs.twimg.com/ext_tw_video_thumb/1434599975305072643/pu/img/ann9nfWqDvLE9kEs.jpg', 'url': 'https://t.co/HUxo1FH7qK', 'display_url': 'pic.twitter.com/HUxo1FH7qK', 'expanded_url': 'https://twitter.com/DawgsDailyPod/status/1434600042959151106/video/1', 'type': 'video', 'sizes': {'thumb': {'w': 150, 'h': 150, 'resize': 'crop'}, 'small': {'w': 680, 'h': 680, 'resize': 'fit'}, 'medium': {'w': 720, 'h': 720, 'resize': 'fit'}, 'large': {'w': 720, 'h': 720, 'resize': 'fit'}}, 'source_status_id': 1434600042959151106, 'source_status_id_str': '1434600042959151106', 'source_user_id': 1365476292867600384, 'source_user_id_str': '1365476292867600384', 'video_info': {'aspect_ratio': [1, 1], 'duration_millis': 17112, 'variants': [{'bitrate': 432000, 'content_type': 'video/mp4', 'url': 'https://video.twimg.com/ext_tw_video/1434599975305072643/pu/vid/320x320/LFWXt32NMWBZB-R1.mp4?tag=12'}, {'bitrate': 832000, 'content_type': 'video/mp4', 'url': 'https://video.twimg.com/ext_tw_video/1434599975305072643/pu/vid/540x540/mKcZi6FRaDxla-2d.mp4?tag=12'}, {'content_type': 'application/x-mpegURL', 'url': 'https://video.twimg.com/ext_tw_video/1434599975305072643/pu/pl/mYtSy7V-bPjD6mat.m3u8?tag=12&container=fmp4'}, {'bitrate': 1280000, 'content_type': 'video/mp4', 'url': 'https://video.twimg.com/ext_tw_video/1434599975305072643/pu/vid/720x720/v1iNuY5REipTuN76.mp4?tag=12'}]}, 'additional_media_info': {'monetizable': False}}]}, 'source': '<a href=\"http://twitter.com/download/iphone\" rel=\"nofollow\">Twitter for iPhone</a>', 'in_reply_to_status_id': None, 'in_reply_to_status_id_str': None, 'in_reply_to_user_id': None, 'in_reply_to_user_id_str': None, 'in_reply_to_screen_name': None, 'geo': None, 'coordinates': None, 'place': None, 'contributors': None, 'retweeted_status': {'created_at': 'Mon Sep 06 13:27:41 +0000 2021', 'id': 1434870923623084034, 'id_str': '1434870923623084034', 'text': 'Ok… who did this shit??  LOL\\n https://t.co/HUxo1FH7qK', 'truncated': False, 'entities': {'hashtags': [], 'symbols': [], 'user_mentions': [], 'urls': [], 'media': [{'id': 1434599975305072643, 'id_str': '1434599975305072643', 'indices': [30, 53], 'media_url': 'http://pbs.twimg.com/ext_tw_video_thumb/1434599975305072643/pu/img/ann9nfWqDvLE9kEs.jpg', 'media_url_https': 'https://pbs.twimg.com/ext_tw_video_thumb/1434599975305072643/pu/img/ann9nfWqDvLE9kEs.jpg', 'url': 'https://t.co/HUxo1FH7qK', 'display_url': 'pic.twitter.com/HUxo1FH7qK', 'expanded_url': 'https://twitter.com/DawgsDailyPod/status/1434600042959151106/video/1', 'type': 'photo', 'sizes': {'thumb': {'w': 150, 'h': 150, 'resize': 'crop'}, 'small': {'w': 680, 'h': 680, 'resize': 'fit'}, 'medium': {'w': 720, 'h': 720, 'resize': 'fit'}, 'large': {'w': 720, 'h': 720, 'resize': 'fit'}}, 'source_status_id': 1434600042959151106, 'source_status_id_str': '1434600042959151106', 'source_user_id': 1365476292867600384, 'source_user_id_str': '1365476292867600384'}]}, 'extended_entities': {'media': [{'id': 1434599975305072643, 'id_str': '1434599975305072643', 'indices': [30, 53], 'media_url': 'http://pbs.twimg.com/ext_tw_video_thumb/1434599975305072643/pu/img/ann9nfWqDvLE9kEs.jpg', 'media_url_https': 'https://pbs.twimg.com/ext_tw_video_thumb/1434599975305072643/pu/img/ann9nfWqDvLE9kEs.jpg', 'url': 'https://t.co/HUxo1FH7qK', 'display_url': 'pic.twitter.com/HUxo1FH7qK', 'expanded_url': 'https://twitter.com/DawgsDailyPod/status/1434600042959151106/video/1', 'type': 'video', 'sizes': {'thumb': {'w': 150, 'h': 150, 'resize': 'crop'}, 'small': {'w': 680, 'h': 680, 'resize': 'fit'}, 'medium': {'w': 720, 'h': 720, 'resize': 'fit'}, 'large': {'w': 720, 'h': 720, 'resize': 'fit'}}, 'source_status_id': 1434600042959151106, 'source_status_id_str': '1434600042959151106', 'source_user_id': 1365476292867600384, 'source_user_id_str': '1365476292867600384', 'video_info': {'aspect_ratio': [1, 1], 'duration_millis': 17112, 'variants': [{'bitrate': 432000, 'content_type': 'video/mp4', 'url': 'https://video.twimg.com/ext_tw_video/1434599975305072643/pu/vid/320x320/LFWXt32NMWBZB-R1.mp4?tag=12'}, {'bitrate': 832000, 'content_type': 'video/mp4', 'url': 'https://video.twimg.com/ext_tw_video/1434599975305072643/pu/vid/540x540/mKcZi6FRaDxla-2d.mp4?tag=12'}, {'content_type': 'application/x-mpegURL', 'url': 'https://video.twimg.com/ext_tw_video/1434599975305072643/pu/pl/mYtSy7V-bPjD6mat.m3u8?tag=12&container=fmp4'}, {'bitrate': 1280000, 'content_type': 'video/mp4', 'url': 'https://video.twimg.com/ext_tw_video/1434599975305072643/pu/vid/720x720/v1iNuY5REipTuN76.mp4?tag=12'}]}, 'additional_media_info': {'monetizable': False}}]}, 'source': '<a href=\"http://twitter.com/download/iphone\" rel=\"nofollow\">Twitter for iPhone</a>', 'in_reply_to_status_id': None, 'in_reply_to_status_id_str': None, 'in_reply_to_user_id': None, 'in_reply_to_user_id_str': None, 'in_reply_to_screen_name': None, 'geo': None, 'coordinates': None, 'place': None, 'contributors': None, 'is_quote_status': False, 'retweet_count': 501, 'favorite_count': 3716, 'favorited': False, 'retweeted': False, 'possibly_sensitive': False, 'lang': 'en'}, 'is_quote_status': False, 'retweet_count': 501, 'favorite_count': 0, 'favorited': False, 'retweeted': False, 'possibly_sensitive': False, 'lang': 'en'}, 'contributors_enabled': False, 'is_translator': False, 'is_translation_enabled': False, 'profile_background_color': 'C0DEED', 'profile_background_image_url': 'http://abs.twimg.com/images/themes/theme1/bg.png', 'profile_background_image_url_https': 'https://abs.twimg.com/images/themes/theme1/bg.png', 'profile_background_tile': False, 'profile_image_url': 'http://pbs.twimg.com/profile_images/817389397054201856/3N1YDJj1_normal.jpg', 'profile_image_url_https': 'https://pbs.twimg.com/profile_images/817389397054201856/3N1YDJj1_normal.jpg', 'profile_banner_url': 'https://pbs.twimg.com/profile_banners/2573161133/1526261580', 'profile_link_color': '1DA1F2', 'profile_sidebar_border_color': 'C0DEED', 'profile_sidebar_fill_color': 'DDEEF6', 'profile_text_color': '333333', 'profile_use_background_image': True, 'has_extended_profile': False, 'default_profile': True, 'default_profile_image': False, 'following': False, 'follow_request_sent': False, 'notifications': False, 'translator_type': 'none', 'withheld_in_countries': []}\n"
     ]
    },
    {
     "name": "stdout",
     "output_type": "stream",
     "text": [
      "{'id': 43775786, 'id_str': '43775786', 'name': 'Dave Portnoy', 'screen_name': 'stoolpresidente', 'location': 'Boston', 'profile_location': None, 'description': 'El Presidente/3 time Bee Sting survivor. I own a ton of Penn Stock. I’m not a financial advisor. Don’t trust anything I say about stocks. Owner of DDTG Global', 'url': 'https://t.co/0FXUs0Q7g8', 'entities': {'url': {'urls': [{'url': 'https://t.co/0FXUs0Q7g8', 'expanded_url': 'http://boston.barstoolsports.com', 'display_url': 'boston.barstoolsports.com', 'indices': [0, 23]}]}, 'description': {'urls': []}}, 'protected': False, 'followers_count': 2702680, 'friends_count': 1349, 'listed_count': 6892, 'created_at': 'Sun May 31 23:08:06 +0000 2009', 'favourites_count': 2984, 'utc_offset': None, 'time_zone': None, 'geo_enabled': True, 'verified': False, 'statuses_count': 84975, 'lang': None, 'status': {'created_at': 'Sun Oct 03 19:05:36 +0000 2021', 'id': 1444740434195095558, 'id_str': '1444740434195095558', 'text': 'Biggest regular season game of all time tonight.   Bet 100 on Pats vs the spread on @barstoolsportsbook tonight and… https://t.co/y0WWz42Geg', 'truncated': True, 'entities': {'hashtags': [], 'symbols': [], 'user_mentions': [], 'urls': [{'url': 'https://t.co/y0WWz42Geg', 'expanded_url': 'https://twitter.com/i/web/status/1444740434195095558', 'display_url': 'twitter.com/i/web/status/1…', 'indices': [117, 140]}]}, 'source': '<a href=\"http://twitter.com/download/iphone\" rel=\"nofollow\">Twitter for iPhone</a>', 'in_reply_to_status_id': None, 'in_reply_to_status_id_str': None, 'in_reply_to_user_id': None, 'in_reply_to_user_id_str': None, 'in_reply_to_screen_name': None, 'geo': None, 'coordinates': None, 'place': None, 'contributors': None, 'is_quote_status': False, 'retweet_count': 17, 'favorite_count': 426, 'favorited': False, 'retweeted': False, 'possibly_sensitive': False, 'lang': 'en'}, 'contributors_enabled': False, 'is_translator': False, 'is_translation_enabled': False, 'profile_background_color': '00254C', 'profile_background_image_url': 'http://abs.twimg.com/images/themes/theme1/bg.png', 'profile_background_image_url_https': 'https://abs.twimg.com/images/themes/theme1/bg.png', 'profile_background_tile': True, 'profile_image_url': 'http://pbs.twimg.com/profile_images/1433981188549615619/Xn3orloz_normal.jpg', 'profile_image_url_https': 'https://pbs.twimg.com/profile_images/1433981188549615619/Xn3orloz_normal.jpg', 'profile_link_color': '050505', 'profile_sidebar_border_color': 'CCCCCC', 'profile_sidebar_fill_color': 'EEEEEE', 'profile_text_color': '333333', 'profile_use_background_image': True, 'has_extended_profile': False, 'default_profile': False, 'default_profile_image': False, 'following': False, 'follow_request_sent': False, 'notifications': False, 'translator_type': 'none', 'withheld_in_countries': []}\n",
      "{'id': 342165503, 'id_str': '342165503', 'name': 'Johnny Manziel', 'screen_name': 'JManziel2', 'location': '', 'profile_location': None, 'description': 'Good vibes only', 'url': None, 'entities': {'description': {'urls': []}}, 'protected': False, 'followers_count': 1957316, 'friends_count': 1638, 'listed_count': 2455, 'created_at': 'Mon Jul 25 15:53:08 +0000 2011', 'favourites_count': 1748, 'utc_offset': None, 'time_zone': None, 'geo_enabled': False, 'verified': True, 'statuses_count': 4932, 'lang': None, 'status': {'created_at': 'Thu Sep 16 01:27:14 +0000 2021', 'id': 1438313496471498752, 'id_str': '1438313496471498752', 'text': 'RT @AggieMensGolf: Sam Bennett finishes the round off strong!\\n\\nBennett cards a 4-under 68 to finish the Maridoe Collegiate Invitational at…', 'truncated': False, 'entities': {'hashtags': [], 'symbols': [], 'user_mentions': [{'screen_name': 'AggieMensGolf', 'name': \"Texas A&M Men's Golf\", 'id': 57438267, 'id_str': '57438267', 'indices': [3, 17]}], 'urls': []}, 'source': '<a href=\"http://twitter.com/download/iphone\" rel=\"nofollow\">Twitter for iPhone</a>', 'in_reply_to_status_id': None, 'in_reply_to_status_id_str': None, 'in_reply_to_user_id': None, 'in_reply_to_user_id_str': None, 'in_reply_to_screen_name': None, 'geo': None, 'coordinates': None, 'place': None, 'contributors': None, 'retweeted_status': {'created_at': 'Wed Sep 15 22:28:13 +0000 2021', 'id': 1438268446337286146, 'id_str': '1438268446337286146', 'text': 'Sam Bennett finishes the round off strong!\\n\\nBennett cards a 4-under 68 to finish the Maridoe Collegiate Invitationa… https://t.co/q2CD4tcTdc', 'truncated': True, 'entities': {'hashtags': [], 'symbols': [], 'user_mentions': [], 'urls': [{'url': 'https://t.co/q2CD4tcTdc', 'expanded_url': 'https://twitter.com/i/web/status/1438268446337286146', 'display_url': 'twitter.com/i/web/status/1…', 'indices': [117, 140]}]}, 'source': '<a href=\"https://studio.twitter.com\" rel=\"nofollow\">Twitter Media Studio</a>', 'in_reply_to_status_id': None, 'in_reply_to_status_id_str': None, 'in_reply_to_user_id': None, 'in_reply_to_user_id_str': None, 'in_reply_to_screen_name': None, 'geo': None, 'coordinates': None, 'place': None, 'contributors': None, 'is_quote_status': False, 'retweet_count': 12, 'favorite_count': 176, 'favorited': False, 'retweeted': False, 'possibly_sensitive': False, 'lang': 'en'}, 'is_quote_status': False, 'retweet_count': 12, 'favorite_count': 0, 'favorited': False, 'retweeted': False, 'lang': 'en'}, 'contributors_enabled': False, 'is_translator': False, 'is_translation_enabled': False, 'profile_background_color': '171A1C', 'profile_background_image_url': 'http://abs.twimg.com/images/themes/theme1/bg.png', 'profile_background_image_url_https': 'https://abs.twimg.com/images/themes/theme1/bg.png', 'profile_background_tile': False, 'profile_image_url': 'http://pbs.twimg.com/profile_images/1205640404802166785/szCLS0oz_normal.jpg', 'profile_image_url_https': 'https://pbs.twimg.com/profile_images/1205640404802166785/szCLS0oz_normal.jpg', 'profile_banner_url': 'https://pbs.twimg.com/profile_banners/342165503/1489370205', 'profile_link_color': 'E36512', 'profile_sidebar_border_color': 'FFFFFF', 'profile_sidebar_fill_color': '121112', 'profile_text_color': '050505', 'profile_use_background_image': True, 'has_extended_profile': False, 'default_profile': False, 'default_profile_image': False, 'following': False, 'follow_request_sent': False, 'notifications': False, 'translator_type': 'none', 'withheld_in_countries': []}\n",
      "{'id': 2423787905, 'id_str': '2423787905', 'name': 'Lance Beck', 'screen_name': 'lbeck_9', 'location': '', 'profile_location': None, 'description': 'Lovett School 2019.', 'url': None, 'entities': {'description': {'urls': []}}, 'protected': False, 'followers_count': 178, 'friends_count': 200, 'listed_count': 1, 'created_at': 'Thu Mar 20 00:58:33 +0000 2014', 'favourites_count': 308, 'utc_offset': None, 'time_zone': None, 'geo_enabled': False, 'verified': False, 'statuses_count': 70, 'lang': None, 'status': {'created_at': 'Tue Sep 07 23:21:40 +0000 2021', 'id': 1435382793970855938, 'id_str': '1435382793970855938', 'text': 'RT @ShaedonSharpe: And I rock Kentucky Blue 😼🔵⚪️ COMMITTED! @KentuckyMBB #bbn #mytoolbox https://t.co/YedAGBFyhq', 'truncated': False, 'entities': {'hashtags': [{'text': 'bbn', 'indices': [73, 77]}, {'text': 'mytoolbox', 'indices': [78, 88]}], 'symbols': [], 'user_mentions': [{'screen_name': 'ShaedonSharpe', 'name': 'Shaedon Sharpe', 'id': 749564716557672448, 'id_str': '749564716557672448', 'indices': [3, 17]}, {'screen_name': 'KentuckyMBB', 'name': 'Kentucky Basketball', 'id': 35583547, 'id_str': '35583547', 'indices': [60, 72]}], 'urls': [], 'media': [{'id': 1435377543205453829, 'id_str': '1435377543205453829', 'indices': [89, 112], 'media_url': 'http://pbs.twimg.com/media/E-t8RUVVgAUFUZ8.jpg', 'media_url_https': 'https://pbs.twimg.com/media/E-t8RUVVgAUFUZ8.jpg', 'url': 'https://t.co/YedAGBFyhq', 'display_url': 'pic.twitter.com/YedAGBFyhq', 'expanded_url': 'https://twitter.com/ShaedonSharpe/status/1435377545940111364/photo/1', 'type': 'photo', 'sizes': {'thumb': {'w': 150, 'h': 150, 'resize': 'crop'}, 'medium': {'w': 801, 'h': 1000, 'resize': 'fit'}, 'small': {'w': 545, 'h': 680, 'resize': 'fit'}, 'large': {'w': 801, 'h': 1000, 'resize': 'fit'}}, 'source_status_id': 1435377545940111364, 'source_status_id_str': '1435377545940111364', 'source_user_id': 749564716557672448, 'source_user_id_str': '749564716557672448'}]}, 'extended_entities': {'media': [{'id': 1435377543205453829, 'id_str': '1435377543205453829', 'indices': [89, 112], 'media_url': 'http://pbs.twimg.com/media/E-t8RUVVgAUFUZ8.jpg', 'media_url_https': 'https://pbs.twimg.com/media/E-t8RUVVgAUFUZ8.jpg', 'url': 'https://t.co/YedAGBFyhq', 'display_url': 'pic.twitter.com/YedAGBFyhq', 'expanded_url': 'https://twitter.com/ShaedonSharpe/status/1435377545940111364/photo/1', 'type': 'photo', 'sizes': {'thumb': {'w': 150, 'h': 150, 'resize': 'crop'}, 'medium': {'w': 801, 'h': 1000, 'resize': 'fit'}, 'small': {'w': 545, 'h': 680, 'resize': 'fit'}, 'large': {'w': 801, 'h': 1000, 'resize': 'fit'}}, 'source_status_id': 1435377545940111364, 'source_status_id_str': '1435377545940111364', 'source_user_id': 749564716557672448, 'source_user_id_str': '749564716557672448'}]}, 'source': '<a href=\"http://twitter.com/download/iphone\" rel=\"nofollow\">Twitter for iPhone</a>', 'in_reply_to_status_id': None, 'in_reply_to_status_id_str': None, 'in_reply_to_user_id': None, 'in_reply_to_user_id_str': None, 'in_reply_to_screen_name': None, 'geo': None, 'coordinates': None, 'place': None, 'contributors': None, 'retweeted_status': {'created_at': 'Tue Sep 07 23:00:49 +0000 2021', 'id': 1435377545940111364, 'id_str': '1435377545940111364', 'text': 'And I rock Kentucky Blue 😼🔵⚪️ COMMITTED! @KentuckyMBB #bbn #mytoolbox https://t.co/YedAGBFyhq', 'truncated': False, 'entities': {'hashtags': [{'text': 'bbn', 'indices': [54, 58]}, {'text': 'mytoolbox', 'indices': [59, 69]}], 'symbols': [], 'user_mentions': [{'screen_name': 'KentuckyMBB', 'name': 'Kentucky Basketball', 'id': 35583547, 'id_str': '35583547', 'indices': [41, 53]}], 'urls': [], 'media': [{'id': 1435377543205453829, 'id_str': '1435377543205453829', 'indices': [70, 93], 'media_url': 'http://pbs.twimg.com/media/E-t8RUVVgAUFUZ8.jpg', 'media_url_https': 'https://pbs.twimg.com/media/E-t8RUVVgAUFUZ8.jpg', 'url': 'https://t.co/YedAGBFyhq', 'display_url': 'pic.twitter.com/YedAGBFyhq', 'expanded_url': 'https://twitter.com/ShaedonSharpe/status/1435377545940111364/photo/1', 'type': 'photo', 'sizes': {'thumb': {'w': 150, 'h': 150, 'resize': 'crop'}, 'medium': {'w': 801, 'h': 1000, 'resize': 'fit'}, 'small': {'w': 545, 'h': 680, 'resize': 'fit'}, 'large': {'w': 801, 'h': 1000, 'resize': 'fit'}}}]}, 'extended_entities': {'media': [{'id': 1435377543205453829, 'id_str': '1435377543205453829', 'indices': [70, 93], 'media_url': 'http://pbs.twimg.com/media/E-t8RUVVgAUFUZ8.jpg', 'media_url_https': 'https://pbs.twimg.com/media/E-t8RUVVgAUFUZ8.jpg', 'url': 'https://t.co/YedAGBFyhq', 'display_url': 'pic.twitter.com/YedAGBFyhq', 'expanded_url': 'https://twitter.com/ShaedonSharpe/status/1435377545940111364/photo/1', 'type': 'photo', 'sizes': {'thumb': {'w': 150, 'h': 150, 'resize': 'crop'}, 'medium': {'w': 801, 'h': 1000, 'resize': 'fit'}, 'small': {'w': 545, 'h': 680, 'resize': 'fit'}, 'large': {'w': 801, 'h': 1000, 'resize': 'fit'}}}]}, 'source': '<a href=\"http://twitter.com/download/iphone\" rel=\"nofollow\">Twitter for iPhone</a>', 'in_reply_to_status_id': None, 'in_reply_to_status_id_str': None, 'in_reply_to_user_id': None, 'in_reply_to_user_id_str': None, 'in_reply_to_screen_name': None, 'geo': None, 'coordinates': None, 'place': None, 'contributors': None, 'is_quote_status': False, 'retweet_count': 2365, 'favorite_count': 12524, 'favorited': False, 'retweeted': False, 'possibly_sensitive': False, 'lang': 'en'}, 'is_quote_status': False, 'retweet_count': 2365, 'favorite_count': 0, 'favorited': False, 'retweeted': False, 'possibly_sensitive': False, 'lang': 'en'}, 'contributors_enabled': False, 'is_translator': False, 'is_translation_enabled': False, 'profile_background_color': 'C0DEED', 'profile_background_image_url': 'http://abs.twimg.com/images/themes/theme1/bg.png', 'profile_background_image_url_https': 'https://abs.twimg.com/images/themes/theme1/bg.png', 'profile_background_tile': False, 'profile_image_url': 'http://pbs.twimg.com/profile_images/867929657605312514/WhoRqrf3_normal.jpg', 'profile_image_url_https': 'https://pbs.twimg.com/profile_images/867929657605312514/WhoRqrf3_normal.jpg', 'profile_banner_url': 'https://pbs.twimg.com/profile_banners/2423787905/1528994694', 'profile_link_color': '1DA1F2', 'profile_sidebar_border_color': 'C0DEED', 'profile_sidebar_fill_color': 'DDEEF6', 'profile_text_color': '333333', 'profile_use_background_image': True, 'has_extended_profile': False, 'default_profile': True, 'default_profile_image': False, 'following': False, 'follow_request_sent': False, 'notifications': False, 'translator_type': 'none', 'withheld_in_countries': []}\n"
     ]
    },
    {
     "name": "stdout",
     "output_type": "stream",
     "text": [
      "{'id': 155661068, 'id_str': '155661068', 'name': 'Athens Georgia', 'screen_name': 'Athens_GA', 'location': 'Athens, GA', 'profile_location': None, 'description': 'All Athens, All The Time.', 'url': 'http://t.co/iegQusflhI', 'entities': {'url': {'urls': [{'url': 'http://t.co/iegQusflhI', 'expanded_url': 'http://www.MyLocalPledge.com', 'display_url': 'MyLocalPledge.com', 'indices': [0, 22]}]}, 'description': {'urls': []}}, 'protected': False, 'followers_count': 645, 'friends_count': 276, 'listed_count': 18, 'created_at': 'Mon Jun 14 19:16:04 +0000 2010', 'favourites_count': 0, 'utc_offset': None, 'time_zone': None, 'geo_enabled': False, 'verified': False, 'statuses_count': 29, 'lang': None, 'status': {'created_at': 'Fri Dec 31 17:10:22 +0000 2010', 'id': 20889513010139137, 'id_str': '20889513010139137', 'text': 'We are wishing everyone a safe and Happy New Year. Please designate a driver or call for a ride home.', 'truncated': False, 'entities': {'hashtags': [], 'symbols': [], 'user_mentions': [], 'urls': []}, 'source': '<a href=\"http://www.hootsuite.com\" rel=\"nofollow\">Hootsuite</a>', 'in_reply_to_status_id': None, 'in_reply_to_status_id_str': None, 'in_reply_to_user_id': None, 'in_reply_to_user_id_str': None, 'in_reply_to_screen_name': None, 'geo': None, 'coordinates': None, 'place': None, 'contributors': None, 'is_quote_status': False, 'retweet_count': 0, 'favorite_count': 4, 'favorited': False, 'retweeted': False, 'lang': 'en'}, 'contributors_enabled': False, 'is_translator': False, 'is_translation_enabled': False, 'profile_background_color': 'C0DEED', 'profile_background_image_url': 'http://abs.twimg.com/images/themes/theme1/bg.png', 'profile_background_image_url_https': 'https://abs.twimg.com/images/themes/theme1/bg.png', 'profile_background_tile': False, 'profile_image_url': 'http://pbs.twimg.com/profile_images/992822407/athens_normal.jpg', 'profile_image_url_https': 'https://pbs.twimg.com/profile_images/992822407/athens_normal.jpg', 'profile_link_color': '1DA1F2', 'profile_sidebar_border_color': 'C0DEED', 'profile_sidebar_fill_color': 'DDEEF6', 'profile_text_color': '333333', 'profile_use_background_image': True, 'has_extended_profile': False, 'default_profile': True, 'default_profile_image': False, 'following': False, 'follow_request_sent': False, 'notifications': False, 'translator_type': 'none', 'withheld_in_countries': []}\n",
      "{'id': 239843671, 'id_str': '239843671', 'name': 'Shep Bickley', 'screen_name': 'shepbickley', 'location': 'Ga and AR ', 'profile_location': None, 'description': 'Grain Merchandiser Delta and Southeast', 'url': 'https://t.co/Njw98s9Wr9', 'entities': {'url': {'urls': [{'url': 'https://t.co/Njw98s9Wr9', 'expanded_url': 'http://www.cainagra.net', 'display_url': 'cainagra.net', 'indices': [0, 23]}]}, 'description': {'urls': []}}, 'protected': False, 'followers_count': 1137, 'friends_count': 1103, 'listed_count': 12, 'created_at': 'Tue Jan 18 15:19:39 +0000 2011', 'favourites_count': 10427, 'utc_offset': None, 'time_zone': None, 'geo_enabled': True, 'verified': False, 'statuses_count': 4170, 'lang': None, 'status': {'created_at': 'Sat Oct 02 05:24:29 +0000 2021', 'id': 1444171406812622848, 'id_str': '1444171406812622848', 'text': '@BornBullish @GoddessofGrain @VerdiPlus Dee cab', 'truncated': False, 'entities': {'hashtags': [], 'symbols': [], 'user_mentions': [{'screen_name': 'BornBullish', 'name': 'Badger', 'id': 472419019, 'id_str': '472419019', 'indices': [0, 12]}, {'screen_name': 'GoddessofGrain', 'name': 'Angie Setzer', 'id': 851008638, 'id_str': '851008638', 'indices': [13, 28]}, {'screen_name': 'VerdiPlus', 'name': 'Paul Overby', 'id': 98127049, 'id_str': '98127049', 'indices': [29, 39]}], 'urls': []}, 'source': '<a href=\"http://twitter.com/#!/download/ipad\" rel=\"nofollow\">Twitter for iPad</a>', 'in_reply_to_status_id': 1444160896306229251, 'in_reply_to_status_id_str': '1444160896306229251', 'in_reply_to_user_id': 472419019, 'in_reply_to_user_id_str': '472419019', 'in_reply_to_screen_name': 'BornBullish', 'geo': None, 'coordinates': None, 'place': None, 'contributors': None, 'is_quote_status': False, 'retweet_count': 0, 'favorite_count': 2, 'favorited': False, 'retweeted': False, 'lang': 'en'}, 'contributors_enabled': False, 'is_translator': False, 'is_translation_enabled': False, 'profile_background_color': 'ACDED6', 'profile_background_image_url': 'http://abs.twimg.com/images/themes/theme18/bg.gif', 'profile_background_image_url_https': 'https://abs.twimg.com/images/themes/theme18/bg.gif', 'profile_background_tile': True, 'profile_image_url': 'http://pbs.twimg.com/profile_images/1137462134378553344/ftefv97O_normal.jpg', 'profile_image_url_https': 'https://pbs.twimg.com/profile_images/1137462134378553344/ftefv97O_normal.jpg', 'profile_banner_url': 'https://pbs.twimg.com/profile_banners/239843671/1368293351', 'profile_link_color': '038543', 'profile_sidebar_border_color': 'FFFFFF', 'profile_sidebar_fill_color': 'F6F6F6', 'profile_text_color': '333333', 'profile_use_background_image': True, 'has_extended_profile': False, 'default_profile': False, 'default_profile_image': False, 'following': False, 'follow_request_sent': False, 'notifications': False, 'translator_type': 'none', 'withheld_in_countries': []}\n",
      "{'id': 18527874, 'id_str': '18527874', 'name': '13WMAZ News', 'screen_name': '13wmaznews', 'location': 'Macon, GA', 'profile_location': None, 'description': \"Central Georgia's leading news source. Follow 13WMAZ for the latest breaking news and top headlines.\", 'url': 'http://t.co/h1ouHFPDZF', 'entities': {'url': {'urls': [{'url': 'http://t.co/h1ouHFPDZF', 'expanded_url': 'http://www.13wmaz.com', 'display_url': '13wmaz.com', 'indices': [0, 22]}]}, 'description': {'urls': []}}, 'protected': False, 'followers_count': 70535, 'friends_count': 488, 'listed_count': 557, 'created_at': 'Thu Jan 01 13:17:01 +0000 2009', 'favourites_count': 1825, 'utc_offset': None, 'time_zone': None, 'geo_enabled': True, 'verified': True, 'statuses_count': 170698, 'lang': None, 'status': {'created_at': 'Sun Oct 03 19:22:12 +0000 2021', 'id': 1444744612640329733, 'id_str': '1444744612640329733', 'text': 'Tomorrow is last day to register to vote for November elections https://t.co/ZWeRNNDzk3', 'truncated': False, 'entities': {'hashtags': [], 'symbols': [], 'user_mentions': [], 'urls': [{'url': 'https://t.co/ZWeRNNDzk3', 'expanded_url': 'https://www.13wmaz.com/article/news/politics/elections/georgia-elections-november-voting-registration-deadline/85-a6cf8fb4-bce7-4816-96a4-7310ec997fc9?utm_campaign=snd-autopilot', 'display_url': '13wmaz.com/article/news/p…', 'indices': [64, 87]}]}, 'source': '<a href=\"http://www.socialnewsdesk.com\" rel=\"nofollow\">SocialNewsDesk</a>', 'in_reply_to_status_id': None, 'in_reply_to_status_id_str': None, 'in_reply_to_user_id': None, 'in_reply_to_user_id_str': None, 'in_reply_to_screen_name': None, 'geo': None, 'coordinates': None, 'place': None, 'contributors': None, 'is_quote_status': False, 'retweet_count': 1, 'favorite_count': 1, 'favorited': False, 'retweeted': False, 'possibly_sensitive': False, 'lang': 'en'}, 'contributors_enabled': False, 'is_translator': False, 'is_translation_enabled': False, 'profile_background_color': '707070', 'profile_background_image_url': 'http://abs.twimg.com/images/themes/theme1/bg.png', 'profile_background_image_url_https': 'https://abs.twimg.com/images/themes/theme1/bg.png', 'profile_background_tile': False, 'profile_image_url': 'http://pbs.twimg.com/profile_images/1045675428893970433/RPLzJ5Ku_normal.jpg', 'profile_image_url_https': 'https://pbs.twimg.com/profile_images/1045675428893970433/RPLzJ5Ku_normal.jpg', 'profile_banner_url': 'https://pbs.twimg.com/profile_banners/18527874/1457649362', 'profile_link_color': '072F75', 'profile_sidebar_border_color': 'FFFFFF', 'profile_sidebar_fill_color': '000000', 'profile_text_color': '0062FF', 'profile_use_background_image': True, 'has_extended_profile': False, 'default_profile': False, 'default_profile_image': False, 'following': False, 'follow_request_sent': False, 'notifications': False, 'translator_type': 'none', 'withheld_in_countries': []}\n",
      "{'id': 321586997, 'id_str': '321586997', 'name': 'Georgia Football', 'screen_name': 'GeorgiaFootball', 'location': 'Athens, GA', 'profile_location': None, 'description': 'Official Twitter of Georgia Football | TikTok: FootballUGA | Instagram: GeorgiaFootball | Head Coach: @KirbySmartUGA | #CommitToTheG', 'url': 'https://t.co/Pqbru4W6vu', 'entities': {'url': {'urls': [{'url': 'https://t.co/Pqbru4W6vu', 'expanded_url': 'http://www.georgiadogs.com', 'display_url': 'georgiadogs.com', 'indices': [0, 23]}]}, 'description': {'urls': []}}, 'protected': False, 'followers_count': 985538, 'friends_count': 1524, 'listed_count': 1625, 'created_at': 'Tue Jun 21 20:22:25 +0000 2011', 'favourites_count': 7005, 'utc_offset': None, 'time_zone': None, 'geo_enabled': True, 'verified': True, 'statuses_count': 14170, 'lang': None, 'status': {'created_at': 'Sun Oct 03 19:04:52 +0000 2021', 'id': 1444740252971700225, 'id_str': '1444740252971700225', 'text': 'Everybody doing their job ‼️\\n\\u2060\\n#GoDawgs https://t.co/D1Q4vUg95w', 'truncated': False, 'entities': {'hashtags': [{'text': 'GoDawgs', 'indices': [31, 39]}], 'symbols': [], 'user_mentions': [], 'urls': [], 'media': [{'id': 1444740124965756929, 'id_str': '1444740124965756929', 'indices': [40, 63], 'media_url': 'http://pbs.twimg.com/ext_tw_video_thumb/1444740124965756929/pu/img/4a8z2txaeCKNH6xV.jpg', 'media_url_https': 'https://pbs.twimg.com/ext_tw_video_thumb/1444740124965756929/pu/img/4a8z2txaeCKNH6xV.jpg', 'url': 'https://t.co/D1Q4vUg95w', 'display_url': 'pic.twitter.com/D1Q4vUg95w', 'expanded_url': 'https://twitter.com/GeorgiaFootball/status/1444740252971700225/video/1', 'type': 'photo', 'sizes': {'thumb': {'w': 150, 'h': 150, 'resize': 'crop'}, 'medium': {'w': 1200, 'h': 675, 'resize': 'fit'}, 'small': {'w': 680, 'h': 383, 'resize': 'fit'}, 'large': {'w': 1280, 'h': 720, 'resize': 'fit'}}}]}, 'extended_entities': {'media': [{'id': 1444740124965756929, 'id_str': '1444740124965756929', 'indices': [40, 63], 'media_url': 'http://pbs.twimg.com/ext_tw_video_thumb/1444740124965756929/pu/img/4a8z2txaeCKNH6xV.jpg', 'media_url_https': 'https://pbs.twimg.com/ext_tw_video_thumb/1444740124965756929/pu/img/4a8z2txaeCKNH6xV.jpg', 'url': 'https://t.co/D1Q4vUg95w', 'display_url': 'pic.twitter.com/D1Q4vUg95w', 'expanded_url': 'https://twitter.com/GeorgiaFootball/status/1444740252971700225/video/1', 'type': 'video', 'sizes': {'thumb': {'w': 150, 'h': 150, 'resize': 'crop'}, 'medium': {'w': 1200, 'h': 675, 'resize': 'fit'}, 'small': {'w': 680, 'h': 383, 'resize': 'fit'}, 'large': {'w': 1280, 'h': 720, 'resize': 'fit'}}, 'video_info': {'aspect_ratio': [16, 9], 'duration_millis': 29738, 'variants': [{'content_type': 'application/x-mpegURL', 'url': 'https://video.twimg.com/ext_tw_video/1444740124965756929/pu/pl/0RX1PRPiofCCP-eg.m3u8?tag=12&container=fmp4'}, {'bitrate': 832000, 'content_type': 'video/mp4', 'url': 'https://video.twimg.com/ext_tw_video/1444740124965756929/pu/vid/640x360/hi5CQ5e1bEWIpguu.mp4?tag=12'}, {'bitrate': 2176000, 'content_type': 'video/mp4', 'url': 'https://video.twimg.com/ext_tw_video/1444740124965756929/pu/vid/1280x720/Hdq1srlB1Y8gxSRE.mp4?tag=12'}, {'bitrate': 256000, 'content_type': 'video/mp4', 'url': 'https://video.twimg.com/ext_tw_video/1444740124965756929/pu/vid/480x270/5Lg1MQNYKFht7rCN.mp4?tag=12'}]}, 'additional_media_info': {'monetizable': False}}]}, 'source': '<a href=\"http://twitter.com/download/iphone\" rel=\"nofollow\">Twitter for iPhone</a>', 'in_reply_to_status_id': None, 'in_reply_to_status_id_str': None, 'in_reply_to_user_id': None, 'in_reply_to_user_id_str': None, 'in_reply_to_screen_name': None, 'geo': None, 'coordinates': None, 'place': None, 'contributors': None, 'is_quote_status': False, 'retweet_count': 38, 'favorite_count': 402, 'favorited': False, 'retweeted': False, 'possibly_sensitive': False, 'lang': 'en'}, 'contributors_enabled': False, 'is_translator': False, 'is_translation_enabled': False, 'profile_background_color': '131516', 'profile_background_image_url': 'http://abs.twimg.com/images/themes/theme14/bg.gif', 'profile_background_image_url_https': 'https://abs.twimg.com/images/themes/theme14/bg.gif', 'profile_background_tile': False, 'profile_image_url': 'http://pbs.twimg.com/profile_images/1425885089054011394/mJL-Hfzy_normal.jpg', 'profile_image_url_https': 'https://pbs.twimg.com/profile_images/1425885089054011394/mJL-Hfzy_normal.jpg', 'profile_banner_url': 'https://pbs.twimg.com/profile_banners/321586997/1628793654', 'profile_link_color': 'D4111A', 'profile_sidebar_border_color': 'FFFFFF', 'profile_sidebar_fill_color': 'D1D1D1', 'profile_text_color': '333333', 'profile_use_background_image': True, 'has_extended_profile': False, 'default_profile': False, 'default_profile_image': False, 'following': False, 'follow_request_sent': False, 'notifications': False, 'translator_type': 'regular', 'withheld_in_countries': []}\n"
     ]
    },
    {
     "name": "stdout",
     "output_type": "stream",
     "text": [
      "{'id': 31191508, 'id_str': '31191508', 'name': 'Georgia Bulldogs', 'screen_name': 'UGAAthletics', 'location': 'Athens, GA', 'profile_location': None, 'description': 'Go Dawgs.', 'url': 'https://t.co/HxSbZheIyj', 'entities': {'url': {'urls': [{'url': 'https://t.co/HxSbZheIyj', 'expanded_url': 'http://www.georgiadogs.com', 'display_url': 'georgiadogs.com', 'indices': [0, 23]}]}, 'description': {'urls': []}}, 'protected': False, 'followers_count': 616552, 'friends_count': 286, 'listed_count': 1418, 'created_at': 'Tue Apr 14 18:42:35 +0000 2009', 'favourites_count': 5949, 'utc_offset': None, 'time_zone': None, 'geo_enabled': True, 'verified': True, 'statuses_count': 31125, 'lang': None, 'status': {'created_at': 'Sun Oct 03 17:24:53 +0000 2021', 'id': 1444715090155036682, 'id_str': '1444715090155036682', 'text': \"RT @UGASoccer: 🆕 Today's match will kick off this evening at 5 p.m. on ESPNU!\\n\\n#GoDawgs 🐾\", 'truncated': False, 'entities': {'hashtags': [{'text': 'GoDawgs', 'indices': [79, 87]}], 'symbols': [], 'user_mentions': [{'screen_name': 'UGASoccer', 'name': 'Georgia Soccer', 'id': 325750564, 'id_str': '325750564', 'indices': [3, 13]}], 'urls': []}, 'source': '<a href=\"http://twitter.com/download/iphone\" rel=\"nofollow\">Twitter for iPhone</a>', 'in_reply_to_status_id': None, 'in_reply_to_status_id_str': None, 'in_reply_to_user_id': None, 'in_reply_to_user_id_str': None, 'in_reply_to_screen_name': None, 'geo': None, 'coordinates': None, 'place': None, 'contributors': None, 'retweeted_status': {'created_at': 'Sun Oct 03 16:10:55 +0000 2021', 'id': 1444696473514483716, 'id_str': '1444696473514483716', 'text': \"🆕 Today's match will kick off this evening at 5 p.m. on ESPNU!\\n\\n#GoDawgs 🐾 https://t.co/vd7zsjX2qM\", 'truncated': False, 'entities': {'hashtags': [{'text': 'GoDawgs', 'indices': [64, 72]}], 'symbols': [], 'user_mentions': [], 'urls': [{'url': 'https://t.co/vd7zsjX2qM', 'expanded_url': 'https://twitter.com/UGASoccer/status/1444648435550937093', 'display_url': 'twitter.com/UGASoccer/stat…', 'indices': [75, 98]}]}, 'source': '<a href=\"https://mobile.twitter.com\" rel=\"nofollow\">Twitter Web App</a>', 'in_reply_to_status_id': None, 'in_reply_to_status_id_str': None, 'in_reply_to_user_id': None, 'in_reply_to_user_id_str': None, 'in_reply_to_screen_name': None, 'geo': None, 'coordinates': None, 'place': None, 'contributors': None, 'is_quote_status': True, 'quoted_status_id': 1444648435550937093, 'quoted_status_id_str': '1444648435550937093', 'retweet_count': 3, 'favorite_count': 17, 'favorited': False, 'retweeted': False, 'possibly_sensitive': False, 'lang': 'en'}, 'is_quote_status': True, 'quoted_status_id': 1444648435550937093, 'quoted_status_id_str': '1444648435550937093', 'retweet_count': 3, 'favorite_count': 0, 'favorited': False, 'retweeted': False, 'lang': 'en'}, 'contributors_enabled': False, 'is_translator': False, 'is_translation_enabled': False, 'profile_background_color': '000000', 'profile_background_image_url': 'http://abs.twimg.com/images/themes/theme1/bg.png', 'profile_background_image_url_https': 'https://abs.twimg.com/images/themes/theme1/bg.png', 'profile_background_tile': False, 'profile_image_url': 'http://pbs.twimg.com/profile_images/1407423658046361600/aPPOtcgn_normal.png', 'profile_image_url_https': 'https://pbs.twimg.com/profile_images/1407423658046361600/aPPOtcgn_normal.png', 'profile_banner_url': 'https://pbs.twimg.com/profile_banners/31191508/1624390719', 'profile_link_color': 'D40000', 'profile_sidebar_border_color': 'FFFFFF', 'profile_sidebar_fill_color': 'F2F2F2', 'profile_text_color': '0E0C0C', 'profile_use_background_image': True, 'has_extended_profile': False, 'default_profile': False, 'default_profile_image': False, 'following': False, 'follow_request_sent': False, 'notifications': False, 'translator_type': 'none', 'withheld_in_countries': []}\n",
      "{'id': 16347506, 'id_str': '16347506', 'name': 'Atlanta Falcons', 'screen_name': 'AtlantaFalcons', 'location': 'Flowery Branch, GA', 'profile_location': None, 'description': 'Home of the #DirtyBirds', 'url': 'https://t.co/5bIYqQ9L1w', 'entities': {'url': {'urls': [{'url': 'https://t.co/5bIYqQ9L1w', 'expanded_url': 'http://www.atlantafalcons.com', 'display_url': 'atlantafalcons.com', 'indices': [0, 23]}]}, 'description': {'urls': []}}, 'protected': False, 'followers_count': 2362154, 'friends_count': 821, 'listed_count': 7105, 'created_at': 'Thu Sep 18 14:46:38 +0000 2008', 'favourites_count': 12443, 'utc_offset': None, 'time_zone': None, 'geo_enabled': True, 'verified': True, 'statuses_count': 72191, 'lang': None, 'status': {'created_at': 'Sun Oct 03 20:38:06 +0000 2021', 'id': 1444763715606306822, 'id_str': '1444763715606306822', 'text': 'RT @ScottBairNFL: Bair: Three gut reactions from Falcons contest vs. Washington:\\n\\nhttps://t.co/VRiwjdqQtw', 'truncated': False, 'entities': {'hashtags': [], 'symbols': [], 'user_mentions': [{'screen_name': 'ScottBairNFL', 'name': 'Scott Bair', 'id': 34060848, 'id_str': '34060848', 'indices': [3, 16]}], 'urls': [{'url': 'https://t.co/VRiwjdqQtw', 'expanded_url': 'https://atlfal.co.nz/3FasvUF', 'display_url': 'atlfal.co.nz/3FasvUF', 'indices': [82, 105]}]}, 'source': '<a href=\"https://about.twitter.com/products/tweetdeck\" rel=\"nofollow\">TweetDeck</a>', 'in_reply_to_status_id': None, 'in_reply_to_status_id_str': None, 'in_reply_to_user_id': None, 'in_reply_to_user_id_str': None, 'in_reply_to_screen_name': None, 'geo': None, 'coordinates': None, 'place': None, 'contributors': None, 'retweeted_status': {'created_at': 'Sun Oct 03 20:37:54 +0000 2021', 'id': 1444763662829371399, 'id_str': '1444763662829371399', 'text': 'Bair: Three gut reactions from Falcons contest vs. Washington:\\n\\nhttps://t.co/VRiwjdqQtw', 'truncated': False, 'entities': {'hashtags': [], 'symbols': [], 'user_mentions': [], 'urls': [{'url': 'https://t.co/VRiwjdqQtw', 'expanded_url': 'https://atlfal.co.nz/3FasvUF', 'display_url': 'atlfal.co.nz/3FasvUF', 'indices': [64, 87]}]}, 'source': '<a href=\"http://twitter.com/download/iphone\" rel=\"nofollow\">Twitter for iPhone</a>', 'in_reply_to_status_id': None, 'in_reply_to_status_id_str': None, 'in_reply_to_user_id': None, 'in_reply_to_user_id_str': None, 'in_reply_to_screen_name': None, 'geo': None, 'coordinates': None, 'place': None, 'contributors': None, 'is_quote_status': False, 'retweet_count': 2, 'favorite_count': 3, 'favorited': False, 'retweeted': False, 'possibly_sensitive': False, 'lang': 'en'}, 'is_quote_status': False, 'retweet_count': 2, 'favorite_count': 0, 'favorited': False, 'retweeted': False, 'possibly_sensitive': False, 'lang': 'en'}, 'contributors_enabled': False, 'is_translator': False, 'is_translation_enabled': False, 'profile_background_color': '787878', 'profile_background_image_url': 'http://abs.twimg.com/images/themes/theme1/bg.png', 'profile_background_image_url_https': 'https://abs.twimg.com/images/themes/theme1/bg.png', 'profile_background_tile': False, 'profile_image_url': 'http://pbs.twimg.com/profile_images/1335959620339326983/FZvFWgRQ_normal.jpg', 'profile_image_url_https': 'https://pbs.twimg.com/profile_images/1335959620339326983/FZvFWgRQ_normal.jpg', 'profile_banner_url': 'https://pbs.twimg.com/profile_banners/16347506/1629723720', 'profile_link_color': 'AAAAAA', 'profile_sidebar_border_color': '000000', 'profile_sidebar_fill_color': '232323', 'profile_text_color': '787878', 'profile_use_background_image': True, 'has_extended_profile': False, 'default_profile': False, 'default_profile_image': False, 'following': False, 'follow_request_sent': False, 'notifications': False, 'translator_type': 'none', 'withheld_in_countries': []}\n",
      "{'id': 21436663, 'id_str': '21436663', 'name': 'Atlanta Braves', 'screen_name': 'Braves', 'location': '@TruistPark', 'profile_location': None, 'description': 'Tweets from the back-to-back-to-back-to-back NL East Champs. #ForTheA', 'url': 'https://t.co/LCOPro2zoG', 'entities': {'url': {'urls': [{'url': 'https://t.co/LCOPro2zoG', 'expanded_url': 'http://braves.com', 'display_url': 'braves.com', 'indices': [0, 23]}]}, 'description': {'urls': []}}, 'protected': False, 'followers_count': 1382048, 'friends_count': 5221, 'listed_count': 7898, 'created_at': 'Fri Feb 20 21:35:38 +0000 2009', 'favourites_count': 39663, 'utc_offset': None, 'time_zone': None, 'geo_enabled': True, 'verified': True, 'statuses_count': 62989, 'lang': None, 'status': {'created_at': 'Sun Oct 03 20:35:04 +0000 2021', 'id': 1444762951848710145, 'id_str': '1444762951848710145', 'text': 'RT @BlooperBraves: SINGLES\\nDOUBLES\\nTRIPLES\\nHOME RUNS\\nDEFENSIVE STOPS\\nMORE DOUBLES\\nMORE TRIPLES\\nMORE HOME RUNS https://t.co/9YwLoQTVj0', 'truncated': False, 'entities': {'hashtags': [], 'symbols': [], 'user_mentions': [{'screen_name': 'BlooperBraves', 'name': 'Blooper', 'id': 869303474575613952, 'id_str': '869303474575613952', 'indices': [3, 17]}], 'urls': [], 'media': [{'id': 1444750879836590091, 'id_str': '1444750879836590091', 'indices': [110, 133], 'media_url': 'http://pbs.twimg.com/media/FAzJRUWX0AsY48k.jpg', 'media_url_https': 'https://pbs.twimg.com/media/FAzJRUWX0AsY48k.jpg', 'url': 'https://t.co/9YwLoQTVj0', 'display_url': 'pic.twitter.com/9YwLoQTVj0', 'expanded_url': 'https://twitter.com/BlooperBraves/status/1444751541739606018/photo/1', 'type': 'photo', 'sizes': {'large': {'w': 2048, 'h': 2048, 'resize': 'fit'}, 'thumb': {'w': 150, 'h': 150, 'resize': 'crop'}, 'small': {'w': 680, 'h': 680, 'resize': 'fit'}, 'medium': {'w': 1200, 'h': 1200, 'resize': 'fit'}}, 'source_status_id': 1444751541739606018, 'source_status_id_str': '1444751541739606018', 'source_user_id': 869303474575613952, 'source_user_id_str': '869303474575613952'}]}, 'extended_entities': {'media': [{'id': 1444750879836590091, 'id_str': '1444750879836590091', 'indices': [110, 133], 'media_url': 'http://pbs.twimg.com/media/FAzJRUWX0AsY48k.jpg', 'media_url_https': 'https://pbs.twimg.com/media/FAzJRUWX0AsY48k.jpg', 'url': 'https://t.co/9YwLoQTVj0', 'display_url': 'pic.twitter.com/9YwLoQTVj0', 'expanded_url': 'https://twitter.com/BlooperBraves/status/1444751541739606018/photo/1', 'type': 'photo', 'sizes': {'large': {'w': 2048, 'h': 2048, 'resize': 'fit'}, 'thumb': {'w': 150, 'h': 150, 'resize': 'crop'}, 'small': {'w': 680, 'h': 680, 'resize': 'fit'}, 'medium': {'w': 1200, 'h': 1200, 'resize': 'fit'}}, 'source_status_id': 1444751541739606018, 'source_status_id_str': '1444751541739606018', 'source_user_id': 869303474575613952, 'source_user_id_str': '869303474575613952'}]}, 'source': '<a href=\"http://twitter.com/download/iphone\" rel=\"nofollow\">Twitter for iPhone</a>', 'in_reply_to_status_id': None, 'in_reply_to_status_id_str': None, 'in_reply_to_user_id': None, 'in_reply_to_user_id_str': None, 'in_reply_to_screen_name': None, 'geo': None, 'coordinates': None, 'place': None, 'contributors': None, 'retweeted_status': {'created_at': 'Sun Oct 03 19:49:44 +0000 2021', 'id': 1444751541739606018, 'id_str': '1444751541739606018', 'text': 'SINGLES\\nDOUBLES\\nTRIPLES\\nHOME RUNS\\nDEFENSIVE STOPS\\nMORE DOUBLES\\nMORE TRIPLES\\nMORE HOME RUNS https://t.co/9YwLoQTVj0', 'truncated': False, 'entities': {'hashtags': [], 'symbols': [], 'user_mentions': [], 'urls': [], 'media': [{'id': 1444750879836590091, 'id_str': '1444750879836590091', 'indices': [91, 114], 'media_url': 'http://pbs.twimg.com/media/FAzJRUWX0AsY48k.jpg', 'media_url_https': 'https://pbs.twimg.com/media/FAzJRUWX0AsY48k.jpg', 'url': 'https://t.co/9YwLoQTVj0', 'display_url': 'pic.twitter.com/9YwLoQTVj0', 'expanded_url': 'https://twitter.com/BlooperBraves/status/1444751541739606018/photo/1', 'type': 'photo', 'sizes': {'large': {'w': 2048, 'h': 2048, 'resize': 'fit'}, 'thumb': {'w': 150, 'h': 150, 'resize': 'crop'}, 'small': {'w': 680, 'h': 680, 'resize': 'fit'}, 'medium': {'w': 1200, 'h': 1200, 'resize': 'fit'}}}]}, 'extended_entities': {'media': [{'id': 1444750879836590091, 'id_str': '1444750879836590091', 'indices': [91, 114], 'media_url': 'http://pbs.twimg.com/media/FAzJRUWX0AsY48k.jpg', 'media_url_https': 'https://pbs.twimg.com/media/FAzJRUWX0AsY48k.jpg', 'url': 'https://t.co/9YwLoQTVj0', 'display_url': 'pic.twitter.com/9YwLoQTVj0', 'expanded_url': 'https://twitter.com/BlooperBraves/status/1444751541739606018/photo/1', 'type': 'photo', 'sizes': {'large': {'w': 2048, 'h': 2048, 'resize': 'fit'}, 'thumb': {'w': 150, 'h': 150, 'resize': 'crop'}, 'small': {'w': 680, 'h': 680, 'resize': 'fit'}, 'medium': {'w': 1200, 'h': 1200, 'resize': 'fit'}}}]}, 'source': '<a href=\"https://mobile.twitter.com\" rel=\"nofollow\">Twitter Web App</a>', 'in_reply_to_status_id': None, 'in_reply_to_status_id_str': None, 'in_reply_to_user_id': None, 'in_reply_to_user_id_str': None, 'in_reply_to_screen_name': None, 'geo': None, 'coordinates': None, 'place': None, 'contributors': None, 'is_quote_status': False, 'retweet_count': 36, 'favorite_count': 483, 'favorited': False, 'retweeted': False, 'possibly_sensitive': False, 'lang': 'en'}, 'is_quote_status': False, 'retweet_count': 36, 'favorite_count': 0, 'favorited': False, 'retweeted': False, 'possibly_sensitive': False, 'lang': 'en'}, 'contributors_enabled': False, 'is_translator': False, 'is_translation_enabled': True, 'profile_background_color': 'FFFFFF', 'profile_background_image_url': 'http://abs.twimg.com/images/themes/theme4/bg.gif', 'profile_background_image_url_https': 'https://abs.twimg.com/images/themes/theme4/bg.gif', 'profile_background_tile': False, 'profile_image_url': 'http://pbs.twimg.com/profile_images/1437432151037956104/wbGsonx5_normal.jpg', 'profile_image_url_https': 'https://pbs.twimg.com/profile_images/1437432151037956104/wbGsonx5_normal.jpg', 'profile_banner_url': 'https://pbs.twimg.com/profile_banners/21436663/1633055178', 'profile_link_color': '000000', 'profile_sidebar_border_color': 'FFFFFF', 'profile_sidebar_fill_color': 'AD0015', 'profile_text_color': '000000', 'profile_use_background_image': True, 'has_extended_profile': False, 'default_profile': False, 'default_profile_image': False, 'following': False, 'follow_request_sent': False, 'notifications': False, 'translator_type': 'none', 'withheld_in_countries': []}\n"
     ]
    }
   ],
   "source": [
    "\"\"\"\n",
    "Creating user objects for every id on the anchor nodes friend list\n",
    "\"\"\"\n",
    "\n",
    "#Get list of friends of the anchorUser\n",
    "friends_list = get_friends_list(anchorUser)\n",
    "\n",
    "newUserList = []\n",
    "\n",
    "#Creating a new user object for every ID in the anchorUsers friend list\n",
    "for new_userID in friends_list:\n",
    "    newUser = User(userID=new_userID,\n",
    "                  depression_status=depression_check_user(new_userID)\n",
    "                  )\n",
    "    newUserList.append(newUser)\n",
    "    "
   ]
  },
  {
   "cell_type": "code",
   "execution_count": 146,
   "id": "d05f2d40",
   "metadata": {},
   "outputs": [
    {
     "name": "stdout",
     "output_type": "stream",
     "text": [
      "UserID=3068348666\n",
      "Depression Status=False\n",
      "UserID=742011151\n",
      "Depression Status=False\n",
      "UserID=2573161133\n",
      "Depression Status=False\n",
      "UserID=43775786\n",
      "Depression Status=False\n",
      "UserID=342165503\n",
      "Depression Status=False\n",
      "UserID=2423787905\n",
      "Depression Status=False\n",
      "UserID=155661068\n",
      "Depression Status=False\n",
      "UserID=239843671\n",
      "Depression Status=False\n",
      "UserID=18527874\n",
      "Depression Status=False\n",
      "UserID=321586997\n",
      "Depression Status=False\n",
      "UserID=31191508\n",
      "Depression Status=False\n",
      "UserID=16347506\n",
      "Depression Status=False\n",
      "UserID=21436663\n",
      "Depression Status=False\n"
     ]
    }
   ],
   "source": [
    "for user in newUserList:\n",
    "    print(user)"
   ]
  },
  {
   "cell_type": "code",
   "execution_count": 150,
   "id": "25114844",
   "metadata": {},
   "outputs": [
    {
     "name": "stdout",
     "output_type": "stream",
     "text": [
      "Requirement already satisfied: decorator==4.3 in /Users/filipbosnjak/opt/anaconda3/lib/python3.8/site-packages (4.3.0)\n",
      "Collecting matplotlib==2.2.3\n",
      "  Downloading matplotlib-2.2.3.tar.gz (36.8 MB)\n",
      "\u001b[K     |████████████████████████████████| 36.8 MB 11.0 MB/s eta 0:00:01\n",
      "\u001b[?25hRequirement already satisfied: numpy>=1.7.1 in /Users/filipbosnjak/opt/anaconda3/lib/python3.8/site-packages (from matplotlib==2.2.3) (1.19.5)\n",
      "Requirement already satisfied: cycler>=0.10 in /Users/filipbosnjak/opt/anaconda3/lib/python3.8/site-packages (from matplotlib==2.2.3) (0.10.0)\n",
      "Requirement already satisfied: pyparsing!=2.0.4,!=2.1.2,!=2.1.6,>=2.0.1 in /Users/filipbosnjak/opt/anaconda3/lib/python3.8/site-packages (from matplotlib==2.2.3) (2.4.7)\n",
      "Requirement already satisfied: python-dateutil>=2.1 in /Users/filipbosnjak/opt/anaconda3/lib/python3.8/site-packages (from matplotlib==2.2.3) (2.8.1)\n",
      "Requirement already satisfied: pytz in /Users/filipbosnjak/opt/anaconda3/lib/python3.8/site-packages (from matplotlib==2.2.3) (2021.1)\n",
      "Requirement already satisfied: six>=1.10 in /Users/filipbosnjak/opt/anaconda3/lib/python3.8/site-packages (from matplotlib==2.2.3) (1.15.0)\n",
      "Requirement already satisfied: kiwisolver>=1.0.1 in /Users/filipbosnjak/opt/anaconda3/lib/python3.8/site-packages (from matplotlib==2.2.3) (1.3.1)\n",
      "Building wheels for collected packages: matplotlib\n",
      "  Building wheel for matplotlib (setup.py) ... \u001b[?25ldone\n",
      "\u001b[?25h  Created wheel for matplotlib: filename=matplotlib-2.2.3-cp38-cp38-macosx_10_9_x86_64.whl size=8092629 sha256=cbc0c60b939e0fd2c5309fe0ddf295429b1f389b81e9ee41e1c72f074375d724\n",
      "  Stored in directory: /Users/filipbosnjak/Library/Caches/pip/wheels/32/9e/42/1c91b0d0aa4bc87be038ee6aa88f303df10286c165feaa9823\n",
      "Successfully built matplotlib\n",
      "Installing collected packages: matplotlib\n",
      "  Attempting uninstall: matplotlib\n",
      "    Found existing installation: matplotlib 3.3.4\n",
      "    Uninstalling matplotlib-3.3.4:\n",
      "      Successfully uninstalled matplotlib-3.3.4\n",
      "Successfully installed matplotlib-2.2.3\n"
     ]
    }
   ],
   "source": []
  },
  {
   "cell_type": "code",
   "execution_count": 151,
   "id": "cd13deb7",
   "metadata": {},
   "outputs": [
    {
     "ename": "NetworkXError",
     "evalue": "random_state_index is incorrect",
     "output_type": "error",
     "traceback": [
      "\u001b[0;31m---------------------------------------------------------------------------\u001b[0m",
      "\u001b[0;31mIndexError\u001b[0m                                Traceback (most recent call last)",
      "\u001b[0;32m~/opt/anaconda3/lib/python3.8/site-packages/networkx/utils/decorators.py\u001b[0m in \u001b[0;36m_random_state\u001b[0;34m(func, *args, **kwargs)\u001b[0m\n\u001b[1;32m    395\u001b[0m         \u001b[0;32mtry\u001b[0m\u001b[0;34m:\u001b[0m\u001b[0;34m\u001b[0m\u001b[0;34m\u001b[0m\u001b[0m\n\u001b[0;32m--> 396\u001b[0;31m             \u001b[0mrandom_state_arg\u001b[0m \u001b[0;34m=\u001b[0m \u001b[0margs\u001b[0m\u001b[0;34m[\u001b[0m\u001b[0mrandom_state_index\u001b[0m\u001b[0;34m]\u001b[0m\u001b[0;34m\u001b[0m\u001b[0;34m\u001b[0m\u001b[0m\n\u001b[0m\u001b[1;32m    397\u001b[0m         \u001b[0;32mexcept\u001b[0m \u001b[0mTypeError\u001b[0m \u001b[0;32mas\u001b[0m \u001b[0me\u001b[0m\u001b[0;34m:\u001b[0m\u001b[0;34m\u001b[0m\u001b[0;34m\u001b[0m\u001b[0m\n",
      "\u001b[0;31mIndexError\u001b[0m: tuple index out of range",
      "\nThe above exception was the direct cause of the following exception:\n",
      "\u001b[0;31mNetworkXError\u001b[0m                             Traceback (most recent call last)",
      "\u001b[0;32m<ipython-input-151-e26d513b9829>\u001b[0m in \u001b[0;36m<module>\u001b[0;34m\u001b[0m\n\u001b[1;32m      1\u001b[0m \u001b[0;32mimport\u001b[0m \u001b[0mmatplotlib\u001b[0m\u001b[0;34m.\u001b[0m\u001b[0mpyplot\u001b[0m \u001b[0;32mas\u001b[0m \u001b[0mplt\u001b[0m\u001b[0;34m\u001b[0m\u001b[0;34m\u001b[0m\u001b[0m\n\u001b[1;32m      2\u001b[0m \u001b[0;34m\u001b[0m\u001b[0m\n\u001b[0;32m----> 3\u001b[0;31m \u001b[0mnx\u001b[0m\u001b[0;34m.\u001b[0m\u001b[0mdraw\u001b[0m\u001b[0;34m(\u001b[0m\u001b[0mG\u001b[0m\u001b[0;34m)\u001b[0m\u001b[0;34m\u001b[0m\u001b[0;34m\u001b[0m\u001b[0m\n\u001b[0m",
      "\u001b[0;32m~/opt/anaconda3/lib/python3.8/site-packages/networkx/drawing/nx_pylab.py\u001b[0m in \u001b[0;36mdraw\u001b[0;34m(G, pos, ax, **kwds)\u001b[0m\n\u001b[1;32m    121\u001b[0m         \u001b[0mkwds\u001b[0m\u001b[0;34m[\u001b[0m\u001b[0;34m\"with_labels\"\u001b[0m\u001b[0;34m]\u001b[0m \u001b[0;34m=\u001b[0m \u001b[0;34m\"labels\"\u001b[0m \u001b[0;32min\u001b[0m \u001b[0mkwds\u001b[0m\u001b[0;34m\u001b[0m\u001b[0;34m\u001b[0m\u001b[0m\n\u001b[1;32m    122\u001b[0m \u001b[0;34m\u001b[0m\u001b[0m\n\u001b[0;32m--> 123\u001b[0;31m     \u001b[0mdraw_networkx\u001b[0m\u001b[0;34m(\u001b[0m\u001b[0mG\u001b[0m\u001b[0;34m,\u001b[0m \u001b[0mpos\u001b[0m\u001b[0;34m=\u001b[0m\u001b[0mpos\u001b[0m\u001b[0;34m,\u001b[0m \u001b[0max\u001b[0m\u001b[0;34m=\u001b[0m\u001b[0max\u001b[0m\u001b[0;34m,\u001b[0m \u001b[0;34m**\u001b[0m\u001b[0mkwds\u001b[0m\u001b[0;34m)\u001b[0m\u001b[0;34m\u001b[0m\u001b[0;34m\u001b[0m\u001b[0m\n\u001b[0m\u001b[1;32m    124\u001b[0m     \u001b[0max\u001b[0m\u001b[0;34m.\u001b[0m\u001b[0mset_axis_off\u001b[0m\u001b[0;34m(\u001b[0m\u001b[0;34m)\u001b[0m\u001b[0;34m\u001b[0m\u001b[0;34m\u001b[0m\u001b[0m\n\u001b[1;32m    125\u001b[0m     \u001b[0mplt\u001b[0m\u001b[0;34m.\u001b[0m\u001b[0mdraw_if_interactive\u001b[0m\u001b[0;34m(\u001b[0m\u001b[0;34m)\u001b[0m\u001b[0;34m\u001b[0m\u001b[0;34m\u001b[0m\u001b[0m\n",
      "\u001b[0;32m~/opt/anaconda3/lib/python3.8/site-packages/networkx/drawing/nx_pylab.py\u001b[0m in \u001b[0;36mdraw_networkx\u001b[0;34m(G, pos, arrows, with_labels, **kwds)\u001b[0m\n\u001b[1;32m    331\u001b[0m \u001b[0;34m\u001b[0m\u001b[0m\n\u001b[1;32m    332\u001b[0m     \u001b[0;32mif\u001b[0m \u001b[0mpos\u001b[0m \u001b[0;32mis\u001b[0m \u001b[0;32mNone\u001b[0m\u001b[0;34m:\u001b[0m\u001b[0;34m\u001b[0m\u001b[0;34m\u001b[0m\u001b[0m\n\u001b[0;32m--> 333\u001b[0;31m         \u001b[0mpos\u001b[0m \u001b[0;34m=\u001b[0m \u001b[0mnx\u001b[0m\u001b[0;34m.\u001b[0m\u001b[0mdrawing\u001b[0m\u001b[0;34m.\u001b[0m\u001b[0mspring_layout\u001b[0m\u001b[0;34m(\u001b[0m\u001b[0mG\u001b[0m\u001b[0;34m)\u001b[0m  \u001b[0;31m# default to spring layout\u001b[0m\u001b[0;34m\u001b[0m\u001b[0;34m\u001b[0m\u001b[0m\n\u001b[0m\u001b[1;32m    334\u001b[0m \u001b[0;34m\u001b[0m\u001b[0m\n\u001b[1;32m    335\u001b[0m     \u001b[0mdraw_networkx_nodes\u001b[0m\u001b[0;34m(\u001b[0m\u001b[0mG\u001b[0m\u001b[0;34m,\u001b[0m \u001b[0mpos\u001b[0m\u001b[0;34m,\u001b[0m \u001b[0;34m**\u001b[0m\u001b[0mnode_kwds\u001b[0m\u001b[0;34m)\u001b[0m\u001b[0;34m\u001b[0m\u001b[0;34m\u001b[0m\u001b[0m\n",
      "\u001b[0;32m~/opt/anaconda3/lib/python3.8/site-packages/decorator.py\u001b[0m in \u001b[0;36mfun\u001b[0;34m(*args, **kw)\u001b[0m\n\u001b[1;32m    229\u001b[0m         \u001b[0mfunc\u001b[0m\u001b[0;34m,\u001b[0m \u001b[0;34m\"return _call_(_func_, %s%%(shortsignature)s)\"\u001b[0m \u001b[0;34m%\u001b[0m \u001b[0mes\u001b[0m\u001b[0;34m,\u001b[0m\u001b[0;34m\u001b[0m\u001b[0;34m\u001b[0m\u001b[0m\n\u001b[1;32m    230\u001b[0m         evaldict, __wrapped__=func)\n\u001b[0;32m--> 231\u001b[0;31m     \u001b[0;32mif\u001b[0m \u001b[0mhasattr\u001b[0m\u001b[0;34m(\u001b[0m\u001b[0mfunc\u001b[0m\u001b[0;34m,\u001b[0m \u001b[0;34m'__qualname__'\u001b[0m\u001b[0;34m)\u001b[0m\u001b[0;34m:\u001b[0m\u001b[0;34m\u001b[0m\u001b[0;34m\u001b[0m\u001b[0m\n\u001b[0m\u001b[1;32m    232\u001b[0m         \u001b[0mfun\u001b[0m\u001b[0;34m.\u001b[0m\u001b[0m__qualname__\u001b[0m \u001b[0;34m=\u001b[0m \u001b[0mfunc\u001b[0m\u001b[0;34m.\u001b[0m\u001b[0m__qualname__\u001b[0m\u001b[0;34m\u001b[0m\u001b[0;34m\u001b[0m\u001b[0m\n\u001b[1;32m    233\u001b[0m     \u001b[0;32mreturn\u001b[0m \u001b[0mfun\u001b[0m\u001b[0;34m\u001b[0m\u001b[0;34m\u001b[0m\u001b[0m\n",
      "\u001b[0;32m~/opt/anaconda3/lib/python3.8/site-packages/networkx/utils/decorators.py\u001b[0m in \u001b[0;36m_random_state\u001b[0;34m(func, *args, **kwargs)\u001b[0m\n\u001b[1;32m    398\u001b[0m             \u001b[0;32mraise\u001b[0m \u001b[0mnx\u001b[0m\u001b[0;34m.\u001b[0m\u001b[0mNetworkXError\u001b[0m\u001b[0;34m(\u001b[0m\u001b[0;34m\"random_state_index must be an integer\"\u001b[0m\u001b[0;34m)\u001b[0m \u001b[0;32mfrom\u001b[0m \u001b[0me\u001b[0m\u001b[0;34m\u001b[0m\u001b[0;34m\u001b[0m\u001b[0m\n\u001b[1;32m    399\u001b[0m         \u001b[0;32mexcept\u001b[0m \u001b[0mIndexError\u001b[0m \u001b[0;32mas\u001b[0m \u001b[0me\u001b[0m\u001b[0;34m:\u001b[0m\u001b[0;34m\u001b[0m\u001b[0;34m\u001b[0m\u001b[0m\n\u001b[0;32m--> 400\u001b[0;31m             \u001b[0;32mraise\u001b[0m \u001b[0mnx\u001b[0m\u001b[0;34m.\u001b[0m\u001b[0mNetworkXError\u001b[0m\u001b[0;34m(\u001b[0m\u001b[0;34m\"random_state_index is incorrect\"\u001b[0m\u001b[0;34m)\u001b[0m \u001b[0;32mfrom\u001b[0m \u001b[0me\u001b[0m\u001b[0;34m\u001b[0m\u001b[0;34m\u001b[0m\u001b[0m\n\u001b[0m\u001b[1;32m    401\u001b[0m \u001b[0;34m\u001b[0m\u001b[0m\n\u001b[1;32m    402\u001b[0m         \u001b[0;31m# Create a numpy.random.RandomState instance\u001b[0m\u001b[0;34m\u001b[0m\u001b[0;34m\u001b[0m\u001b[0;34m\u001b[0m\u001b[0m\n",
      "\u001b[0;31mNetworkXError\u001b[0m: random_state_index is incorrect"
     ]
    },
    {
     "data": {
      "image/png": "[encoded data removed]",
      "text/plain": [
       "<Figure size 432x288 with 1 Axes>"
      ]
     },
     "metadata": {},
     "output_type": "display_data"
    }
   ],
   "source": [
    "import matplotlib.pyplot as plt\n",
    "\n",
    "nx.draw(G)"
   ]
  },
  {
   "cell_type": "code",
   "execution_count": null,
   "id": "cffc1d53",
   "metadata": {},
   "outputs": [],
   "source": []
  },
  {
   "cell_type": "code",
   "execution_count": null,
   "id": "2b9503f8",
   "metadata": {},
   "outputs": [],
   "source": []
  }
 ],
 "metadata": {
  "kernelspec": {
   "display_name": "Python 3",
   "language": "python",
   "name": "python3"
  },
  "language_info": {
   "codemirror_mode": {
    "name": "ipython",
    "version": 3
   },
   "file_extension": ".py",
   "mimetype": "text/x-python",
   "name": "python",
   "nbconvert_exporter": "python",
   "pygments_lexer": "ipython3",
   "version": "3.8.8"
  }
 },
 "nbformat": 4,
 "nbformat_minor": 5
}
