{
 "cells": [
  {
   "cell_type": "code",
   "execution_count": 14,
   "id": "fc59f3c3",
   "metadata": {},
   "outputs": [
    {
     "name": "stdout",
     "output_type": "stream",
     "text": [
      "Requirement already satisfied: tweepy in /Users/filipbosnjak/opt/anaconda3/lib/python3.8/site-packages (4.0.0)\n",
      "Requirement already satisfied: requests<3,>=2.11.1 in /Users/filipbosnjak/opt/anaconda3/lib/python3.8/site-packages (from tweepy) (2.25.1)\n",
      "Requirement already satisfied: requests-oauthlib<2,>=1.0.0 in /Users/filipbosnjak/opt/anaconda3/lib/python3.8/site-packages (from tweepy) (1.3.0)\n",
      "Requirement already satisfied: chardet<5,>=3.0.2 in /Users/filipbosnjak/opt/anaconda3/lib/python3.8/site-packages (from requests<3,>=2.11.1->tweepy) (4.0.0)\n",
      "Requirement already satisfied: idna<3,>=2.5 in /Users/filipbosnjak/opt/anaconda3/lib/python3.8/site-packages (from requests<3,>=2.11.1->tweepy) (2.10)\n",
      "Requirement already satisfied: certifi>=2017.4.17 in /Users/filipbosnjak/opt/anaconda3/lib/python3.8/site-packages (from requests<3,>=2.11.1->tweepy) (2021.5.30)\n",
      "Requirement already satisfied: urllib3<1.27,>=1.21.1 in /Users/filipbosnjak/opt/anaconda3/lib/python3.8/site-packages (from requests<3,>=2.11.1->tweepy) (1.26.4)\n",
      "Requirement already satisfied: oauthlib>=3.0.0 in /Users/filipbosnjak/opt/anaconda3/lib/python3.8/site-packages (from requests-oauthlib<2,>=1.0.0->tweepy) (3.1.1)\n",
      "\u001b[31mERROR: Could not find a version that satisfies the requirement tweepy.streaming\u001b[0m\n",
      "\u001b[31mERROR: No matching distribution found for tweepy.streaming\u001b[0m\n"
     ]
    }
   ],
   "source": [
    "!pip install tweepy\n",
    "!pip install tweepy.streaming"
   ]
  },
  {
   "cell_type": "code",
   "execution_count": 72,
   "id": "b4a83d10",
   "metadata": {},
   "outputs": [],
   "source": [
    "import tweepy as tw\n",
    "import pandas as pd\n",
    "import twitter\n",
    "import json"
   ]
  },
  {
   "cell_type": "code",
   "execution_count": 29,
   "id": "63ea1d2f",
   "metadata": {},
   "outputs": [],
   "source": [
    "%run ./keys.ipynb"
   ]
  },
  {
   "cell_type": "code",
   "execution_count": 30,
   "id": "8e54a9e1",
   "metadata": {},
   "outputs": [],
   "source": [
    "auth = tw.OAuthHandler(consumer_key,consumer_key_secret)"
   ]
  },
  {
   "cell_type": "code",
   "execution_count": 31,
   "id": "56ad3496",
   "metadata": {},
   "outputs": [],
   "source": [
    "auth.set_access_token(access_token,acess_token_secret)\n",
    "api = tweepy.API(auth)"
   ]
  },
  {
   "cell_type": "code",
   "execution_count": 160,
   "id": "3fd92590",
   "metadata": {},
   "outputs": [],
   "source": [
    "fetched_tweets = api.search_tweets(\"\\\" i have depression \\\"\",count = 5,result_type=\"recent\",lang=\"en\")"
   ]
  },
  {
   "cell_type": "code",
   "execution_count": 162,
   "id": "6532726a",
   "metadata": {},
   "outputs": [
    {
     "name": "stdout",
     "output_type": "stream",
     "text": [
      "*Standing on bench. Shia LaBeouf pose.* I HAVE DEPRESSION\n",
      "@AllisonRFloyd @RohanTheMajesty I'm glad you mentioned mentally illness because I've always been unsure if spoon th… https://t.co/dOFRmDUYcA\n",
      "I have depression.\n",
      "@JamesAngelXXX I have depression but your smile makes me feel better Xxo\n",
      "@personakiwami well i have depression and poor hygiene management so\n"
     ]
    }
   ],
   "source": [
    "for i in fetched_tweets:\n",
    "    print(i.text)"
   ]
  },
  {
   "cell_type": "code",
   "execution_count": 86,
   "id": "e040cd28",
   "metadata": {},
   "outputs": [],
   "source": [
    "#userID\n",
    "#tweetID\n",
    "#tweetText"
   ]
  },
  {
   "cell_type": "code",
   "execution_count": 77,
   "id": "615548ce",
   "metadata": {},
   "outputs": [
    {
     "ename": "SyntaxError",
     "evalue": "duplicate argument 'str' in function definition (<ipython-input-77-bc86fa07382a>, line 3)",
     "output_type": "error",
     "traceback": [
      "\u001b[0;36m  File \u001b[0;32m\"<ipython-input-77-bc86fa07382a>\"\u001b[0;36m, line \u001b[0;32m3\u001b[0m\n\u001b[0;31m    def __init__(self,str:userID,bool:depression_status = None,json_info=None,list:followers = [],str:user_bio=\"\"):\u001b[0m\n\u001b[0m    ^\u001b[0m\n\u001b[0;31mSyntaxError\u001b[0m\u001b[0;31m:\u001b[0m duplicate argument 'str' in function definition\n"
     ]
    }
   ],
   "source": [
    "class User():\n",
    "    \n",
    "    def __init__(self,userID,depression_status=None,json_info=None,followers=[],user_bio=\"\"):\n",
    "        self.userID = userID\n",
    "        self.depression_status = depression_status\n",
    "        self.json_info = json_info\n",
    "        self.followers = followers\n",
    "        self.user_bio = user_bio\n",
    "    \n",
    "    \n",
    "    "
   ]
  },
  {
   "cell_type": "code",
   "execution_count": null,
   "id": "719e4fdb",
   "metadata": {},
   "outputs": [],
   "source": []
  }
 ],
 "metadata": {
  "kernelspec": {
   "display_name": "Python 3",
   "language": "python",
   "name": "python3"
  },
  "language_info": {
   "codemirror_mode": {
    "name": "ipython",
    "version": 3
   },
   "file_extension": ".py",
   "mimetype": "text/x-python",
   "name": "python",
   "nbconvert_exporter": "python",
   "pygments_lexer": "ipython3",
   "version": "3.8.8"
  }
 },
 "nbformat": 4,
 "nbformat_minor": 5
}
